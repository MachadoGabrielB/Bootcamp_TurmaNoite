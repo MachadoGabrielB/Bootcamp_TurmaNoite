{
  "cells": [
    {
      "attachments": {},
      "cell_type": "markdown",
      "metadata": {
        "colab_type": "text",
        "id": "view-in-github"
      },
      "source": [
        "<a href=\"https://colab.research.google.com/github/CharlesPrado23/Bootcamp_TurmaNoite/blob/main/Conteudo_01/Introducao_Python_Parte1.ipynb\" target=\"_parent\"><img src=\"https://colab.research.google.com/assets/colab-badge.svg\" alt=\"Open In Colab\"/></a>"
      ]
    },
    {
      "attachments": {},
      "cell_type": "markdown",
      "metadata": {
        "id": "Mi7UuGP89C4e"
      },
      "source": [
        "### A linguagem de programação Python foi criada em 1991 por Guido Van Rossumem, com a finalidade de ser uma linguagem simples e de fácil compreensão. Apesar de simples, Python é uma linguagem muito poderosa, que pode ser usada para desenvolver e administrar grandes sistemas."
      ]
    },
    {
      "attachments": {},
      "cell_type": "markdown",
      "metadata": {
        "id": "BvoVhtx64imJ"
      },
      "source": [
        "**Import all libraries**"
      ]
    },
    {
      "cell_type": "code",
      "execution_count": null,
      "metadata": {
        "id": "G4zI1dUOiUG4"
      },
      "outputs": [],
      "source": [
        "#import numpy as np\n",
        "#import pandas as pd\n",
        "\n",
        "\n"
      ]
    },
    {
      "cell_type": "code",
      "execution_count": null,
      "metadata": {
        "id": "acMhD0datxnU"
      },
      "outputs": [],
      "source": []
    },
    {
      "attachments": {},
      "cell_type": "markdown",
      "metadata": {
        "id": "DTUWNO3YWGdl"
      },
      "source": [
        "Data Types - String,  Int, Float, List, Tuple, Range, Dict, Set,Bool etc\n",
        "\n"
      ]
    },
    {
      "cell_type": "code",
      "execution_count": null,
      "metadata": {
        "id": "HaDr-PZMiYxN"
      },
      "outputs": [],
      "source": [
        "My_integer = 1\n",
        "My_str = \"Hello, World!\"\n",
        "My_float = 2.5\n",
        "My_list = [1,2,3,4,5]\n",
        "My_tuple = (1,2,3,4,5) \n",
        "My_range = range(1,5)\n",
        "My_dict ={\"A\":['Ana','Antonio'],\"B\":['Berenice','Bernardo']}\n",
        "My_set = {1,2,3}\n",
        "My_boolean = True\n",
        "\n",
        "\n",
        "\n",
        "\n",
        "\n"
      ]
    },
    {
      "cell_type": "code",
      "execution_count": null,
      "metadata": {
        "colab": {
          "base_uri": "https://localhost:8080/"
        },
        "id": "FV9ZZaK9mg9c",
        "outputId": "258c55e4-2f21-4eea-cfd7-d2356a497cb2"
      },
      "outputs": [
        {
          "name": "stdout",
          "output_type": "stream",
          "text": [
            "1\n"
          ]
        }
      ],
      "source": [
        "print(My_integer)"
      ]
    },
    {
      "cell_type": "code",
      "execution_count": null,
      "metadata": {
        "colab": {
          "base_uri": "https://localhost:8080/"
        },
        "id": "zEc0ewNRmg4r",
        "outputId": "650694ff-1340-41bb-9fba-680884892b44"
      },
      "outputs": [
        {
          "data": {
            "text/plain": [
              "int"
            ]
          },
          "execution_count": 14,
          "metadata": {},
          "output_type": "execute_result"
        }
      ],
      "source": [
        "type(My_integer)"
      ]
    },
    {
      "cell_type": "code",
      "execution_count": null,
      "metadata": {
        "id": "10suFEAE3Sff"
      },
      "outputs": [],
      "source": []
    },
    {
      "cell_type": "code",
      "execution_count": null,
      "metadata": {
        "id": "uR1HeQ0Bmg0N"
      },
      "outputs": [],
      "source": []
    },
    {
      "cell_type": "code",
      "execution_count": null,
      "metadata": {
        "id": "KE84ox8lmgv-"
      },
      "outputs": [],
      "source": [
        "My_integer =100"
      ]
    },
    {
      "cell_type": "code",
      "execution_count": null,
      "metadata": {
        "id": "17AW_xelmgsA"
      },
      "outputs": [],
      "source": []
    },
    {
      "cell_type": "code",
      "execution_count": null,
      "metadata": {
        "colab": {
          "base_uri": "https://localhost:8080/"
        },
        "id": "Iv6Q087OmIpm",
        "outputId": "a4dd9109-aacd-4aee-e91c-ec1e467994cb"
      },
      "outputs": [
        {
          "name": "stdout",
          "output_type": "stream",
          "text": [
            " My_int =1\n",
            " My_text =Hello, World!\n",
            " My_float =2.5\n",
            " My_list = [1, 2, 3, 4, 5]\n",
            "\n",
            " My_tuple=(1, 2, 3, 4, 5)\n",
            " My_range=range(1, 5)\n",
            " My_dict={'A': ['Ana', 'Antonio'], 'B': ['Berenice', 'Bernardo']}\n",
            " My_set={1, 2, 3}\n",
            " My_boolean=True\n",
            "\n"
          ]
        }
      ],
      "source": [
        "print(\" My_int ={}\\n My_text ={}\\n My_float ={}\\n My_list = {}\\n\".format(My_integer,My_str,My_float,My_list))\n",
        "print(\" My_tuple={}\\n My_range={}\\n My_dict={}\\n My_set={}\\n My_boolean={}\\n\".format(My_tuple,My_range,My_dict,My_set,My_boolean))"
      ]
    },
    {
      "attachments": {},
      "cell_type": "markdown",
      "metadata": {
        "id": "9q0eDn7nmrV3"
      },
      "source": [
        "Comando Input"
      ]
    },
    {
      "cell_type": "code",
      "execution_count": null,
      "metadata": {
        "colab": {
          "base_uri": "https://localhost:8080/"
        },
        "id": "1iF8Hlc55byV",
        "outputId": "84ccc46d-4236-4d56-a29e-94e9fd1acd70"
      },
      "outputs": [
        {
          "name": "stdout",
          "output_type": "stream",
          "text": [
            "Digite o seu nome: Charles\n"
          ]
        }
      ],
      "source": [
        " texto = input(\"Digite o seu nome: \")"
      ]
    },
    {
      "cell_type": "code",
      "execution_count": null,
      "metadata": {
        "colab": {
          "base_uri": "https://localhost:8080/"
        },
        "id": "8NyEeo5u5-LY",
        "outputId": "89dbea73-0747-4d4b-92da-e60573c5558a"
      },
      "outputs": [
        {
          "name": "stdout",
          "output_type": "stream",
          "text": [
            "Charles\n"
          ]
        }
      ],
      "source": [
        "print(texto)"
      ]
    },
    {
      "attachments": {},
      "cell_type": "markdown",
      "metadata": {
        "id": "UT4_-h-941Ud"
      },
      "source": [
        "**Type casting**"
      ]
    },
    {
      "cell_type": "code",
      "execution_count": null,
      "metadata": {
        "id": "qZML_mxl6Tpi"
      },
      "outputs": [],
      "source": [
        "x =float(\"10.0\")\n"
      ]
    },
    {
      "cell_type": "code",
      "execution_count": null,
      "metadata": {
        "colab": {
          "base_uri": "https://localhost:8080/"
        },
        "id": "6NKSScU16U7-",
        "outputId": "69d0775d-cf4e-4c5b-b2c9-280964b23a03"
      },
      "outputs": [
        {
          "data": {
            "text/plain": [
              "float"
            ]
          },
          "execution_count": 5,
          "metadata": {},
          "output_type": "execute_result"
        }
      ],
      "source": [
        "type(x)"
      ]
    },
    {
      "cell_type": "code",
      "execution_count": null,
      "metadata": {
        "id": "pWZA7RGpOpLl"
      },
      "outputs": [],
      "source": []
    },
    {
      "attachments": {},
      "cell_type": "markdown",
      "metadata": {
        "id": "TCS8a4vuAw2R"
      },
      "source": [
        "**Escreva um programa que receba o salário de um funcionário (float), e retorne o resultado do novo salário com reajuste de 35%.**"
      ]
    },
    {
      "cell_type": "code",
      "execution_count": null,
      "metadata": {
        "colab": {
          "base_uri": "https://localhost:8080/"
        },
        "id": "8P9CXPw26GKV",
        "outputId": "6f303bc6-d561-4496-cd43-8e9f856ab81d"
      },
      "outputs": [
        {
          "name": "stdout",
          "output_type": "stream",
          "text": [
            "Digite o salário atual: 10\n",
            "<class 'str'>\n",
            "<class 'float'>\n",
            "Seu novo salario é 13.50\n"
          ]
        }
      ],
      "source": [
        "salario = input(\"Digite o salário atual: \")\n",
        "\n",
        "print(type(salario))\n",
        "try:  \n",
        "  salario = float(salario)\n",
        "  print(type(salario))\n",
        "  novo_salario = 1.35*salario ### salario(1+0.35) = salario*1.35\n",
        "  print(\"Seu novo salario é {:.2f}\".format(novo_salario))\n",
        "\n",
        "except ValueError:\n",
        "  print(\"Error - valor de salário inválido\")"
      ]
    },
    {
      "cell_type": "code",
      "execution_count": null,
      "metadata": {
        "id": "lf51CqR2pTah"
      },
      "outputs": [],
      "source": []
    },
    {
      "attachments": {},
      "cell_type": "markdown",
      "metadata": {
        "id": "BIH2m9Gs449P"
      },
      "source": [
        "**Operadores - ( + ;- ; x ; xx, /)**"
      ]
    },
    {
      "cell_type": "code",
      "execution_count": null,
      "metadata": {
        "colab": {
          "base_uri": "https://localhost:8080/"
        },
        "id": "bBAEGJbjmIaX",
        "outputId": "7e835c38-60f7-4212-b24d-e944abedd416"
      },
      "outputs": [
        {
          "name": "stdout",
          "output_type": "stream",
          "text": [
            "1\n"
          ]
        },
        {
          "data": {
            "text/plain": [
              "2"
            ]
          },
          "execution_count": 15,
          "metadata": {},
          "output_type": "execute_result"
        }
      ],
      "source": [
        "soma = My_integer + 1\n",
        "print(My_integer)\n",
        "soma"
      ]
    },
    {
      "cell_type": "code",
      "execution_count": null,
      "metadata": {
        "colab": {
          "base_uri": "https://localhost:8080/"
        },
        "id": "IW8GKsTgmIOt",
        "outputId": "1d074d9c-38de-47b7-8f14-92289cd0288e"
      },
      "outputs": [
        {
          "data": {
            "text/plain": [
              "-1"
            ]
          },
          "execution_count": 16,
          "metadata": {},
          "output_type": "execute_result"
        }
      ],
      "source": [
        "subtracao = My_integer -2 \n",
        "subtracao "
      ]
    },
    {
      "cell_type": "code",
      "execution_count": null,
      "metadata": {
        "colab": {
          "base_uri": "https://localhost:8080/"
        },
        "id": "F_hAxYxsWIO9",
        "outputId": "6aea932c-0adc-4b28-d59c-0bb410eebf17"
      },
      "outputs": [
        {
          "data": {
            "text/plain": [
              "3"
            ]
          },
          "execution_count": 17,
          "metadata": {},
          "output_type": "execute_result"
        }
      ],
      "source": [
        "multiplicacao = My_integer*3\n",
        "multiplicacao"
      ]
    },
    {
      "cell_type": "code",
      "execution_count": null,
      "metadata": {
        "colab": {
          "base_uri": "https://localhost:8080/"
        },
        "id": "JYUR17N-mH-d",
        "outputId": "e6e8a3f3-1918-4950-fc80-25c45c0ac10a"
      },
      "outputs": [
        {
          "data": {
            "text/plain": [
              "8"
            ]
          },
          "execution_count": 18,
          "metadata": {},
          "output_type": "execute_result"
        }
      ],
      "source": [
        "potencia = 2 ** 3 # 2 ^ 3\n",
        "\n",
        "potencia"
      ]
    },
    {
      "cell_type": "code",
      "execution_count": null,
      "metadata": {
        "colab": {
          "base_uri": "https://localhost:8080/"
        },
        "id": "-GYszRxLmHig",
        "outputId": "c4c18464-ca0c-4896-c243-b2fef57815f0"
      },
      "outputs": [
        {
          "data": {
            "text/plain": [
              "10.0"
            ]
          },
          "execution_count": 19,
          "metadata": {},
          "output_type": "execute_result"
        }
      ],
      "source": [
        "divisao = My_integer/0.1   ## resultado é um float\n",
        "divisao"
      ]
    },
    {
      "cell_type": "code",
      "execution_count": null,
      "metadata": {
        "colab": {
          "base_uri": "https://localhost:8080/"
        },
        "id": "Ab608kJwUFfk",
        "outputId": "181686fc-452e-473d-9704-b8df1a285800"
      },
      "outputs": [
        {
          "data": {
            "text/plain": [
              "10"
            ]
          },
          "execution_count": 20,
          "metadata": {},
          "output_type": "execute_result"
        }
      ],
      "source": [
        "x = int(10.5678)\n",
        "x"
      ]
    },
    {
      "cell_type": "code",
      "execution_count": null,
      "metadata": {
        "id": "4cKhP51pUjd3"
      },
      "outputs": [],
      "source": []
    },
    {
      "cell_type": "code",
      "execution_count": null,
      "metadata": {
        "id": "Rt9n0UkS93l8"
      },
      "outputs": [],
      "source": [
        "### Operações com Strings ### \n",
        "### Concatenar ### \n",
        "### Remover espacos #\n"
      ]
    },
    {
      "cell_type": "code",
      "execution_count": null,
      "metadata": {
        "colab": {
          "base_uri": "https://localhost:8080/",
          "height": 35
        },
        "id": "j7IsF5YX93cj",
        "outputId": "8ea300cd-52e7-4013-c4c8-9d18697ced33"
      },
      "outputs": [
        {
          "data": {
            "application/vnd.google.colaboratory.intrinsic+json": {
              "type": "string"
            },
            "text/plain": [
              "'Hello World'"
            ]
          },
          "execution_count": 23,
          "metadata": {},
          "output_type": "execute_result"
        }
      ],
      "source": [
        "q = \"Hello \"\n",
        "w = \"World\"\n",
        "z = q+w\n",
        "z"
      ]
    },
    {
      "cell_type": "code",
      "execution_count": null,
      "metadata": {
        "id": "QHXOGkC9ViRE"
      },
      "outputs": [],
      "source": [
        "dir(str)"
      ]
    },
    {
      "cell_type": "code",
      "execution_count": null,
      "metadata": {
        "colab": {
          "base_uri": "https://localhost:8080/",
          "height": 35
        },
        "id": "tB4xWMuSV0Xb",
        "outputId": "7dd2eef3-b965-46f9-c546-53ff22322bab"
      },
      "outputs": [
        {
          "data": {
            "application/vnd.google.colaboratory.intrinsic+json": {
              "type": "string"
            },
            "text/plain": [
              "'Hello'"
            ]
          },
          "execution_count": 25,
          "metadata": {},
          "output_type": "execute_result"
        }
      ],
      "source": [
        "q.rstrip()"
      ]
    },
    {
      "cell_type": "code",
      "execution_count": null,
      "metadata": {
        "colab": {
          "base_uri": "https://localhost:8080/",
          "height": 35
        },
        "id": "FX2GATvRV0Lt",
        "outputId": "2919391e-aa1b-4fe3-9954-5e2978dec52e"
      },
      "outputs": [
        {
          "data": {
            "application/vnd.google.colaboratory.intrinsic+json": {
              "type": "string"
            },
            "text/plain": [
              "'HELLO '"
            ]
          },
          "execution_count": 26,
          "metadata": {},
          "output_type": "execute_result"
        }
      ],
      "source": [
        "q.upper()"
      ]
    },
    {
      "cell_type": "code",
      "execution_count": null,
      "metadata": {
        "id": "YYdo_OTnWcLN"
      },
      "outputs": [],
      "source": [
        "help(str)"
      ]
    },
    {
      "cell_type": "code",
      "execution_count": null,
      "metadata": {
        "colab": {
          "base_uri": "https://localhost:8080/",
          "height": 35
        },
        "id": "CdA7YdeyWcHK",
        "outputId": "b6b78ecc-e602-43ef-b89d-e84716e9967f"
      },
      "outputs": [
        {
          "data": {
            "application/vnd.google.colaboratory.intrinsic+json": {
              "type": "string"
            },
            "text/plain": [
              "'Minha idade é 23'"
            ]
          },
          "execution_count": 31,
          "metadata": {},
          "output_type": "execute_result"
        }
      ],
      "source": [
        "age =23\n",
        "d = \"Minha \" + \"idade \" + \"é \" + str(age) \n",
        "d"
      ]
    },
    {
      "cell_type": "code",
      "execution_count": null,
      "metadata": {
        "id": "O3owhLhaWcDq"
      },
      "outputs": [],
      "source": []
    },
    {
      "cell_type": "code",
      "execution_count": null,
      "metadata": {
        "colab": {
          "base_uri": "https://localhost:8080/"
        },
        "id": "nkZ2nWQXoQoP",
        "outputId": "fa2795ad-89d4-450d-c618-5be62bb2202b"
      },
      "outputs": [
        {
          "data": {
            "text/plain": [
              "[1, 2, 3, 4, 5]"
            ]
          },
          "execution_count": 32,
          "metadata": {},
          "output_type": "execute_result"
        }
      ],
      "source": [
        "My_list"
      ]
    },
    {
      "cell_type": "code",
      "execution_count": null,
      "metadata": {
        "colab": {
          "base_uri": "https://localhost:8080/"
        },
        "id": "SxEkXT_idTzY",
        "outputId": "ad6d3e85-2e6e-4023-a3ab-a93c90cbcb0e"
      },
      "outputs": [
        {
          "data": {
            "text/plain": [
              "1"
            ]
          },
          "execution_count": 33,
          "metadata": {},
          "output_type": "execute_result"
        }
      ],
      "source": [
        "My_list[0]"
      ]
    },
    {
      "cell_type": "code",
      "execution_count": null,
      "metadata": {
        "colab": {
          "base_uri": "https://localhost:8080/"
        },
        "id": "YbFRn73boQ2c",
        "outputId": "6bf4471f-2a5b-4e85-bed6-6485a33be8f9"
      },
      "outputs": [
        {
          "data": {
            "text/plain": [
              "[1, 2, 3, 4, 5, 1, 2, 3, 4, 5]"
            ]
          },
          "execution_count": 34,
          "metadata": {},
          "output_type": "execute_result"
        }
      ],
      "source": [
        "## Multiply List by a number - see the result ###\n",
        "list_A = My_list * 2\n",
        "list_A"
      ]
    },
    {
      "cell_type": "code",
      "execution_count": null,
      "metadata": {
        "id": "7aCoCLapoREt"
      },
      "outputs": [],
      "source": [
        "My_list = ['H','E','L','L','O','!']"
      ]
    },
    {
      "attachments": {},
      "cell_type": "markdown",
      "metadata": {
        "id": "eL6Mn1GBvo9T"
      },
      "source": [
        "\n",
        "\n",
        "![image.png](data:image/png;base64,iVBORw0KGgoAAAANSUhEUgAABOAAAAIXCAIAAAC6nra8AAAAAXNSR0IArs4c6QAAQABJREFUeAHs3b3vXVd+H+pRMO290pQJHEtsXCTwpYi5RQZwQLFyYftSLGwg44ISEjjwbUjaKZxKVOUp4qHUXCNGAomFbcAuKMY2cHMbisgAk8IDihk4QNxQnAniUlLyB+h+pD2zZmm/nLffOfvsl+cHgdpnn/2y1rPO2Wt911p7nxc+//zzr/kjMCWBTz/99MaNGx9++OGUEiUtBAgQIECAAIGpC7zyyivvvffea6+9NvWESh+BYYEXBKjDON45j8Cbb775/vvvn+fczkqAAAECBAgQmLNAYtRnz57NOQfSvnaBv7d2APmfnsDHH388vURJEQECBAgQIEBgBgLaUTMoJEncKCBA3cjjTQIECBAgQIAAAQIECBAYS+DrY53IeQgcIpBpKjdv3jxkT/tcWOD58+f1XOs33njj5ZdfvvBRHeAQgbfffrvsljuLrl69Wl5aGFPg8ePH9e3xb7311phnd64i4OpUKM6+cP/+/TJep8o+Y3G0rk5nTIlTE7i4gHtQL27oCEcWuHbtWmkCpi3+6NGjI5/A4XYTSCmkLMq2KQgPXSgaIy+88MIL5YwJiu7evVteWhhTIPJ1Z4GHOIyJX5/L1anWOO+yKvu8/uXsrk6FwsICBEzxXUAhygIBAgQIECBAgAABAgSWICBAXUIpygMBAgQIECBAgAABAgQWICBAXUAhygIBAgQIECBAgAABAgSWIOAhSUsoxZXnIY9n+OCDDz799NNXX3319ddfX7nGebNfbh7OozLyd97ErPbs+S589NFHTVnkS5E7h1966aXVapwl47kopQjyl7Pni5DrkiI4S0GUk5ZLUwoiX4qy3sKpBZrLUe9ZlEUvi5UECERAgOpjMGOB1Hx5YMk777xT8pAK77333hOmFpDRFtL+e/PNN8uzHD3IZzT5+kQphXfffTf9NfXKLOcJzPfu3RMjtVhO8TJB6Z07d0o41JwiXw3fiFNo73jMPI08RdBs7MF7O6Ida7Pg5xvRezRl0ctiJQECETDF18dgxgI3btyoo9PkJCFrVjYDFzPO2KySHu08xTF/JTqdVfIXldj013Sj0+QwbcQU0KKyOtXM5FvQik6blKZohprpU83KctJVP3h5ObmaSU5SKc8kpZJJgMCEBASoEyoMSdlLIKFpaQi2ZgolRt3rUDY+WCDjEleuXCkFcfBx7HgUgfL7qN2ZvelHaPXmHOWMDtISKD/FlIX81aPW8dd31uIa4WV6Z/SdjeA8dIr8Yu3QW9YTIEBgSECAOiRj/dQFMpWxSWJu8Xr27NmTJ08yia5Zk+ZI7zjS1LM0w/TVLb80x2eYg0UlOUWQ2bzN1yG/W/vJJ5/kZclh+cqUNRaOLpCINBeiyMc/fymL+o7H+/fvH/2MDrhBoLkNZMMG3jq1QKkj8r3I7wbXf/mCnPrsjk+AwEwFBKgzLbi1JzvxZ13tNcMUt2/fLi4PHz4syxZOJ9AM2TVBUekgON3pHHmzQALU3INdP56qfpmvjOl2mwGP8u7du3fLwGkWUgTlsEZQC8U4Cxm1bmqKuptgnFM7SyNQampF4CNBgMDuAgLU3a1sOSGBx48fl9SUMaK0BcsgnkmnxeekC8FPL3gdBZ30dA5+gED9zDAB0gGAF9xFu/yCgAfvnu6YZtZAumyuX79+8HHseBGBEqCWXpuLHM2+BAisRECAupKCXlo2Szu7RKRNDss9eKkUS724tMxPKT9p+bWKYEqpk5YvBF588UUQZxSoR60Fq2MWRIZPG/xM7qj7NMdMw8rPVdfCPvwr/zDIPoG9BASoe3HZeCoCZYC01Slbv6yrxqmkWzoIjC7w2WeflXPWs3/LSgsnFaifTXXz5s2TnsvBi0AZPk2lUE8iKBtYGEGgroXr2nmEUzsFAQKzFvA7qLMuPon/2uXLl2uFuo+2Hriot7FMYFUCdW+OAHXMos8lKNFp+Y2TzIevL1BjpmSF5yrDp7du3RIanesDUALUFEF+6SrXn8xySn+BEjlXiTgvgbkIGEGdS0lJ588ESoP7Z6v6lso04L43rSOwCoE0EMsXwWTs0Yo8P3ma5vg3vvGNEp2mUX7v3r3RErDyE9XDp/XD81bOMn72S4CaEknFnZ/8yS+TXbp0qZ5WMH6qnJEAgekLCFCnX0ZSSIAAgQMF0iIse3pOTKE49UI6Bep+tAycGsc7tXl9fMOntcYZl3t/BDXBanpwxKhnLBenJjB9AQHq9MtICgkQIHCIQBlHys6ZXFeed33IsexzAYHEqxlQTaP8Asew664C5WOfeaSGT3dVO812ecB788On+UHg1sPe83Uo46unObmjEiAwYwEB6owLT9IJECCwQaCMI2Ubv1K7Aerob+W3l9Iuf/LkSdjL7XYpjnpA++gndcBGIJFPYtQsG7Wezkei6SDLN6K+Dbv5EaDpJFJKCBCYjoAAdTplISUECBA4mkBG7coNkGkUGj49muzOBwr73bt3E6yWPQyiFooTLWRQrukFMHx6IuGLHDaF8uDBg3KEcnt8WWOBAAECjYAA1SdhfgJ1F+yG1HskzAYcby1eIA8jKXnM5LqybGFkgVyvykTTjOzV96aOnJI1nK50yiSzN27cyMzq5q/EQs1066wsa9bAMp08Zig1f016fBemUy5SQmBqAn5mZmolIj3bBcqUuWz69OnTegdtjlrD8moFMlJXvguZZbpjn85quU6d8TyeqjwSJo1yfWenAy+3NQ71BZT1zTTg06XEkYcEEqCWYhraxnoCBFYuYAR15R+AuWa/NLhbjYz6ZdlmrpmUbgIHCXzwwQclHEoslFmmBx3GTgQIEDihQN3XfMLTODQBAjMUMII6w0KT5K99LcFnM0DUmiP0+PHjhid9tCo/n5QVCmRookzubd3xtUKNiWS5Hi9yXTppoeTHZutuynKuMqcgdUfzg7R6MAvOmAspnVJrK4Ix5Z2LwLwEBKjzKi+p/YnA1atXy/MwM170+uuv54265mvW8CKwNoHcd1ca6Hk8j3BoCh+A+/fvl2SY31soTrEwFPOUL0IWFMEp5Hc8Zpncke39MvOOaDYjsEIBU3xXWOhLyHLiz9LgyFMxmhZ5XfPdvHlzCfmUBwL7CJRhouyUx/Y2XTYZryh/9VDePge27a4C6S8rd/9mnxRBBrTj3+yfmR1DEdSuJ7AdgZkI5GpTPvlNklNHl6dYpQb3aPGZlKRkEjiDgBHUM6A75cUFUrflN+6aqi7NwUuXLqXlV9qF6SDXCrw4siPMS6C+9TQpzxSD/LWykAcmuSW1ZXLcl/lpxzTKcznKX46ci1LTfdacpZlcetwzOhqBaQrkipQus1TWTXWceDV/Jan1TwSXlRYIECDQCAhQfRLmKpBfbnj48GETlKYJWKLTVId+VGOuhSrdFxAoX4ELHMOuFxVoSqHVFm8OmuuSWw8u6mv/+Qg0z9hP7dwaR00OMnZafntpPhmSUgIExhMwxXc8a2c6rkAC0dxi17qbKD21WdmMXRz3dI5GgACBzQJpizeDRa3NckXKdcmExhaLl8sWqOcOlJzmu/DgwQOdyAXEAgECvQJGUHtZrJyHQBOjZsgiHbSpCxOstuLVeWRjKalsegea3OgjGL9UE/9s/fwrl5OWS3NFyvBpLkr5y7myJoXSG7WeNCUO3hIoT/dNibTe8vJEAglEm+FT34UTCTssgQULCFAXXLhryVoaf9p/Uyjspi0+hZSsMw0JPsWfUyj6piDM5p1CWZQ0qCMKxZgLqRTyRcjfmCd1LgIEFiBgiu8CClEWCBAgQIAAAQIECBAgsAQBAeoSSlEeCBAgQIAAAQIECBAgsAABAeoCClEWCBAgQIAAAQIECBAgsAQBAeoSSlEeCBAgQIAAAQIECBAgsAABAeoCClEWCBAgQIAAAQIECBAgsAQBAeoSSlEeCBAgQIAAAQIECBAgsAABAeoCClEWCBAgQIAAAQIECBAgsAQBAeoSSlEeCBAgQIAAAQIECBAgsAABAeoCClEWCBAgQIAAAQIECBAgsAQBAeoSSlEeCBAgQIAAAQIECBAgsAABAeoCClEWCBAgQIAAAQIECBAgsAQBAeoSSlEeCBAgQIAAAQIECBAgsAABAeoCClEWCBAgQIAAAQIECBAgsAQBAeoSSlEeCBAgQIAAAQIECBAgsAABAeoCClEWCBAgQIAAAQIECBAgsASBry8hE/JA4MQC77///scff9w9yd27d7srs6Z3/SuvvPLGG2/0bm/lYQIffvm3175KYS+ufTf2yd9X7ETb73vJOlEyHPaDDz54+PDhR1/+NRqvvfbaq6++euvWrVyL+ExKoPfylRSmyPI3qaRKDIHFCwhQF1/EMngEgfv37ycU6h5oqD57++23uxunhhOgdlkusiaF0ku94ZhKYQPOxd/qLQ7mF4fd9wj7XrL2Pb7ttwokNL1z5063Z7PpVnvnnXdSHdy7d++ll17aeigbjCPQe/lqTi1AHacInIVAETDFt1BYIECAAAECBAhcVCCh6Y0bN7rRaX3cjHJfuXIlY6v1SstnFBjqLBhaf8akOjWBxQsIUBdfxDJIgAABAgQIjCTw5ptvZoB0l5Mlgr127drmOHaX49jmKAKZet17nKH1vRtbSYDAUQQEqEdhdBACBAgQIEBg7QIJTTM0urvCp59+mrHW3be3JQECBNYgIEBdQynLIwECBAgQIHBagczXzeTefc+RvXYccd33yLYnQIDATAUEqDMtOMkmQIAAAQIEJiSwITrNU3Y2zBTN43kylDqhnEgKAQIEzirgKb5n5XdyAgROIJBnYw61BT3u4gTeDkmAwNeax/N2IXLNefToUXNFyjaZ0NuNRbMmT/31mPeunjUECKxTQIC6znKXawJLFkhb0K8CLLmA5Y3A9ATefffd3kS99957pb8s16V0n+UpSt0ts7sAtctiDQEC6xQwxXed5S7XBAgQIECAwHEEmiHQ7rESmr7++uv1+kShr7zySr2mWc6dqB7n22WxhgCBdQoIUNdZ7nJNgAABAgQIHEcgE3R7D3Tr1q3u+lbIWjYYOkjZwMJJBa5evdp7fPNxelmsJHBSAQHqSXkdnAABAgQIEFi4wMOHD3tz2BvbXL9+vXfjx48f9663kgABAmsTEKCurcTllwABAgQIEDimQJ5+1D1cpvL2zuYtt6S2dsks39YaLwkQILBOAQHqOstdrgkQIECAAIEjCOTe0e6DeXPc3ug06/Nc3/x1T+we1K6JNQQIrFNAgLrOcpdrAgQIECBA4AgCQ4Hl0D2NOaVB1CO4OwQBAssVEKAut2zljAABAgQIEDixQO/83sPO2TsSe9ih7EWAAIH5Cvgd1PmWnZSfX+Du3bvnT4QUdATu378/1GQc+o2HzjGsIECAwIUEhqb45qAZQR26Rl3olHYmQIDAIgQEqIsoRpk4k8Dbb799pjM77SaB999/f+jtPFRzQ6txaC/rCRAgMCTw/Pnz3rc2XGpefPHF3l0StfY++Ld3YyuPKxD5bp2uOI6L7GgEdhQwxXdHKJsRIECAAAECBNoCQ/egtrfzmgABAgR2ExCg7uZkKwIECBAgQIAAAQIECBA4sYAA9cTADk+AAAECBAgQIECAAAECuwkIUHdzshUBAgQIECBAgAABAgQInFhAgHpiYIcnQIAAAQIECBAgQIAAgd0EPMV3NydbEegTGHq+n98P6NMab92jR4+Gima8RDgTAQLrEDjib8a4cK3jIyOXBAhsERCgbgHyNoENAgmEet994YUXetdbSYAAAQILExj6zZgNT/d9+vTpwhAWkJ10NHRz0buyu5k1BAgcV8AU3+N6OhoBAgQIECBA4GsbAtRPP/20F+ill17qXW/lCAK9+EO9DyOkxykIrFlAgLrm0pd3AgQIECBA4EICR5yXa7zuQiVhZwIEliJgiu9SSlI+CBAgQIAAgdEFXnnlld5zPn78uHd9VvY+p2DoOEMHsf7oAm+99VbrmEfsfWgd2UsCBDYICFA34HiLAAECBAgQILBJIIFlZod2Z+0OTfEdWm/4dJPyKO/dvXt3lPM4CQECWwRM8d0C5G0CBAgQIECAwAaB3tgygWhvLNo7fJqDX758ecMpvEWAAIH1CAhQ11PWckqAAAECBAgcX+D69eu9B/3ggw+664em/r7++uvdja0hQIDACgUEqCssdFkmQIAAAQIEjiYwFFu+++67rXNkJnBv1JpJwr3DsK3dvTy1wPvvv3/jxo1r166988473Wnbpz674xMg0AgIUH0SCBAgQIAAAQKHC+Q21N7wMlN8E+fUx3377bd7w5433nij3szy+AIplytXrrz55pvpQcg07Dt37ly6dOmjjz4aPyXOSICAhyT5DBAgsDSB+/fvD93llazmqYz5W1qeJ5yfNPs2FIeBozGLbkNBJBm+Fxcpi1u3biW26R4hcU5W3r59O/8mWG3Fq2X77F6WLZxFIH0HrXA0166Mpj579uws6XFSAmsWEKCuufTlncAyBTJHa3PGNMQ3+xz33bT5Ml9u6Jgpi0ePHg29a/1xBTYURE70+eefH/d0qzpahkAT4fQ+FSkxahOmDoHkW+A3ZoZwRlvf23eQAk23jipjtFJwIgKNgCm+PgkECBAgQIAAgYsK3Lt377BDvPfee4ftaK9jCWyYXLDhrWOd3XEIEGgJCFBbIF4SIECAAAECBPYWyKOSDriVNGGt4dO9re1AgMCiBQSoiy5emSNAgAABAgTGEki02fu0pKHzJ6Btbk8d2sD6cQQ2TOLdq0DHSa2zEFi8gAB18UUsgwQIECBAgMAYAnnoV+6pHvrVmVYK3nrrLZN7WyZnfNk7+p3B7R1L84wpd2oCyxMQoC6vTOWIAAECBAgQOI9AYtQHDx4k8twwcTfjdU+ePLl79+55kuisfQLd0e+mKPu2tY4AgdMKeIrvaX0dfRkCqbd6f7luKHe9TyVNVTe0vfWHCaTDe8O8rKFjbmg1Du1i/Y4CvZ/8zfv6Xmz2OezdfS9Zh53FXhsEcnXKX56vk7/Hjx83W+bic/ny5YzIuQptoDvXW7kWpdcgD4F/+PBhavzM7M1v/yipcxWH865cQIC68g+A7O8ksO8tKAdETTulw0ZfFUjTQevhqyRnfuWTf+YC+Onp971k/XQ//z+yQL4RvhRHNj3x4ZqehROfxOEJENgiYIrvFiBvEyBAgAABAgQIECBAgMA4AgLUcZydhQABAgQIECBAgAABAgS2CAhQtwB5mwABAgQIECBAgAABAgTGERCgjuPsLAQIECBAgAABAgQIECCwRUCAugXI2wQIECBAgAABAgQIECAwjoAAdRxnZyFAgAABAgQIECBAgACBLQIC1C1A3iZAgAABAgQIECBAgACBcQQEqOM4OwsBAgQIECBAgAABAgQIbBEQoG4B8jYBAgQIECBAgAABAgQIjCMgQB3H2VkIECBAgAABAgQIECBAYIuAAHULkLcJECBAgAABAgQIECBAYBwBAeo4zs5CgAABAgQIECBAgAABAlsEBKhbgLxNgAABAgQIECBAgAABAuMICFDHcXYWAgQIECBAgAABAgQIENgiIEDdAuRtAgQIECBAgAABAgQIEBhHQIA6jrOzECBAgAABAgQIECBAgMAWAQHqFiBvEyBAgAABAgQIECBAgMA4AgLUcZydhQABAgQIECBAgAABAgS2CAhQtwB5mwABAgQIECBAgAABAgTGERCgjuPsLAQIECBAgAABAgQIECCwRUCAugXI2wQIECBAgAABAgQIECAwjoAAdRxnZyFAgAABAgQIECBAgACBLQIC1C1A3iZAgAABAgQIECBAgACBcQQEqOM4OwsBAgQIECBAgAABAgQIbBEQoG4B8jYBAgQIECBAgAABAgQIjCMgQB3H2VkIECBAgAABAgQIECBAYIuAAHULkLcJECBAgAABAgQIECBAYBwBAeo4zs5CgAABAgQIECBAgAABAlsEBKhbgLxNgAABAgQIECBAgAABAuMICFDHcXYWAgQIECBAgAABAgQIENgiIEDdAuRtAgQIECBAgAABAgQIEBhHQIA6jrOzECBAgAABAgQIECBAgMAWAQHqFiBvEyBAgAABAgQIECBAgMA4AgLUcZydhQABAgQIECBAgAABAgS2CAhQtwB5mwABAgQIECBAgAABAgTGERCgjuPsLAQIECBAgAABAgQIECCwRUCAugXI2wQIECBAgAABAgQIECAwjoAAdRxnZyFAgAABAgQIECBAgACBLQIC1C1A3iZAgAABAgQIECBAgACBcQS+Ps5pnIXAYQIff/zx3bt3D9vXXhcUeP78eX2E+/fvf/jhh/Uay2cRePz4sS/FWeRz0uDXp1YQtcaYy65OY2pvPleq6bKBKrtQjL/QujqNnwBnJHBEgRc+//zzIx7OoQhcXODatWsCoYszOgIBAgQIECCwTgHN+3WW+2JybYrvYopSRggQIECAAAECBAgQIDBvAQHqvMtvkal/5ZVXFpkvmSJAgAABAgQInFpAO+rUwo5/agEB6qmFHX9vgXv37r3++ut772YHAgQIECBAgMC6BV599dUHDx6s20DuZy/gHtTZF6EMECBAgAABAgQIECBAYBkCRlCXUY5yQYAAAQIECBAgQIAAgdkLCFBnX4QyQIAAAQIECBAgQIAAgWUICFCXUY5yQYAAAQIECBAgQIAAgdkLCFBnX4QyQIAAAQIECBAgQIAAgWUICFCXUY5yQYAAAQIECBAgQIAAgdkLCFBnX4QyQIAAAQIECBAgQIAAgWUICFCXUY5yQYAAAQIECBAgQIAAgdkLCFBnX4QyQIAAAQIECBAgQIAAgWUICFCXUY5yQYAAAQIECBAgQIAAgdkLCFBnX4QyQIAAAQIECBAgQIAAgWUICFCXUY5yQYAAAQIECBAgQIAAgdkLCFBnX4QyQIAAAQIECBAgQIAAgWUICFCXUY5yQYAAAQIECBAgQIAAgdkLCFBnX4QyQIAAAQIECBAgQIAAgWUICFCXUY5yQYAAAQIECBAgQIAAgdkLCFBnX4QyQIAAAQIECBAgQIAAgWUICFCXUY5yQYAAAQIECBAgQIAAgdkLCFBnX4QyQIAAAQIECBAgQIAAgWUICFCXUY5yQYAAAQIECBAgQIAAgdkLCFBnX4QyQIAAAQIECBAgQIAAgWUICFCXUY5yQYAAAQIECBAgQIAAgdkLCFBnX4QyQIAAAQIECBAgQIAAgWUICFCXUY5yQYAAAQIECBAgQIAAgdkLCFBnX4QyQIAAAQIECBAgQIAAgWUICFCXUY5yQYAAAQIECBAgQIAAgdkLCFBnX4QyQIAAAQIECBAgQIAAgWUICFCXUY5yQYAAAQIECBAgQIAAgdkLCFBnX4QyQIAAAQIECBAgQIAAgWUICFCXUY5yQYAAAQIECBAgQIAAgdkLCFBnX4QyQIAAAQIECBAgQIAAgWUICFCXUY5yQYAAAQIECBAgQIAAgdkLCFBnX4QyQIAAAQIECBAgQIAAgWUICFCXUY5yQYAAAQIECBAgQIAAgdkLCFBnX4QyQIAAAQIECBAgQIAAgWUICFCXUY5yQYAAAQIECBAgQIAAgdkLCFBnX4QyQIAAAQIECBAgQIAAgWUICFCXUY5yQYAAAQIECBAgQIAAgdkLCFBnX4QyQIAAAQIECBAgQIAAgWUICFCXUY5yQYAAAQIECBAgQIAAgdkLCFBnX4QyQIAAAQIECBAgQIAAgWUICFCXUY5yQYAAAQIECBAgQIAAgdkLCFBnX4QyQIAAAQIECBAgQIAAgWUICFCXUY5yQYAAAQIECBAgQIAAgdkLCFBnX4QyQIAAAQIECBAgQIAAgWUICFCXUY5yQYAAAQIECBAgQIAAgdkLCFBnX4QyQIAAAQIECBAgQIAAgWUICFCXUY5yQYAAAQIECBAgQIAAgdkLCFBnX4QyQIAAAQIECBAgQIAAgWUICFCXUY5yQYAAAQIECBAgQIAAgdkLfH32OZCBJQp8/OXfK1/+LTF/8kTgOAKffvrpRx991BzL9+U4pgcd5cMPP2z2e+211w46gJ0IECBwQoGmsnj11VdfeumlE57GoQkcSUCAeiRIhzmGQBp59+/f/+CDD3IlbY6XK+nrr79+8+ZNzb5jAB/hGCmdd999t3WgFNAbb7zRWunliQTy7UgpPH78ON+X9OTUZ8n3Jd+UW7du+b7ULKdYbkrh4cOH6SBolUKagNevX799+7aG4Cnk9z2mS9a+YkfZ/tq1azseJ9+Xe/fu7bixzfYSyNUpbarUFKUf89GjR2qHvQxtfDaBz/0RmIZA2nMbvgZ5dxrJXG8qNlRsb7311npdRsz5J598Eupdwp40QZ49ezZi0tZ1qrSnt5ZCNnjvvffW5TLJ3GZmQbdmcck6dVl1zYfW5GJ16sSs8Pi5+PR+8lOPr1BDluco4B7UoWum9aMKvPnmm++8886GU+bdbLNhA2+dTiD9r+kOz18WTncWR94qkJG6t99+u8wv2LB9SurKlSul13zDlt46QOD58+dbSyEb5JJ1586dA45vl2MJ3L17tzW+fawjO84GATXFBpxTv5UpA5cuXcrFxyf/1NSOf1IBAepJeR18J4G0Id5///2tm2abzUHs1iPYYF8Boem+Yifdfq/bhxIg3bhxY2scddIEL/Xgly9f3jFruWSlvbjjxjY7rkA+/N37EY57CkcjMCmBxKW57AtNJ1UoEnOYgAD1MDd7HU0gV9IMCu14uB2Hj3Y8ms02C6SqM2q6mWj8d/e6fShfLn06pyij3rlzQycyiDokc+r1+fDroDk1cu/xjaD2spx6ZarsXfr6T50MxydwFAEB6lEYHeRwgd7oNLdv9TbE09rQ4D7ces89X3755T33sPnJBeqxu4RJ+ZrkLyOrQyc2gjQkc5H1MW92TxHk8WC5oTE3yQ9FrekmMIh6Ee3D9jV8epibvWYqsDk6bSqLDZepmeZashcs4Cm+Cy7cGWQtTbduh19a27mPPzFq7qDLfXStbOSRdJkS3Frp5SkENoQ9pzidY+4ikNAofToJivKo3rqA8mVJA6V702ma6RnNKAHVLqewzS4CKYLW08Xz5KQMlvb2oKVc8jTyXQ5rm2MJGD49luQBx3n69Glrr3xfhno8h3p2WkfwcoNAPu3dplS2TzsqNUUuPnVlseE43iIwHQEB6nTKYo0p6b2klidk5pKaWq21TWJaDe5xPiutKi3NiIwUxb930HucJDlLQs0nT560iiYsWfPgwYN06HTnNPq+nOJjk4dkdg+ba1di0YC33spvArXWeHlSAZepk/JuPXj3KtTqzdl6BBvsLjD0aU9cmstUYtTdD2VLAtMRMMV3OmWxxpTkVwRb2W4mopSV+TnBslwWuu2/8paFIwqkLPKXA6aGS8s7P1uS/oIjHt+hDhPoRqfNcVJYvQXUHc047Lz22kUgDfFdNrPNSQVanWjNdeykZ3TwWiAhU/0yyyZxtECO+DJzZ7o9AqkL0mUpOj2is0ONLCBAHRnc6X4mkEtqd0ZiqxrrnRdnOOJniCdeSnFk1DSh6eZfqT1xKhx+V4GrV692N+22XbrbWHMsgd5YSDPxWLy7HCfRUT3vJvi99cguh7LNYQLdAPWw49hrq0D667td9s3Y6dZ9bUBgygKm+E65dBaetu5VNRmunwHT5D8NvlZt1w1rFy51vuz1zmM8X3KceYuAQGgL0Onf7u0O6O04OH1aVnqG1vBp7sFbKcSZst39CrT6nc+UrmWetvsYvNQCKu5lFvbKcmUEdWUFPqXs9saZ3emL3RGJ1H/dKnBKOZMWAhMSELWOWRjd2xZydiN4oxVBa/g0581cx88++2y0BDhRb82O5RQC+bR3nxCeHhnX/FNoO+bIAkZQRwZ3up8JPH/+/Gcv9lxKFahTdk8zmy9foLdp2J2VsHyIM+UwM0vryaVNKhKddnvZzpTA5Z829+PVmUx0Gvze70W9meWTCqQIMmEq/+bvpCda28G70WkEmvtx0okf8+aTn37/tJdErWv7eMw9vwLUuZfgjNPfmrjb5KQbdmZ2XO9k4BnnXNIJnEag93lI3VkJpzn5qo+ahmDm2nWj0zQK84CxVdOMmPnUFK3KIrfQj3h+p/pCoFUEWfNFt83772chX4dU8XmQmDkF0bj4X3e+Rnpkgpyf4svlqDXRLIFrvg7C1IuzO8I4Aqb4juPsLEcW0CN+ZFCHm79AmiO9HerdTp/553UqOcgPn167du0b3/hGfuCnaYLXKUtbMD/pbNSoNjnpcuvu02b49KRndPC9BJpr1I0bN/J9UYnvRde7cbcvIPNlYpsvQis6ze75rdRcrLrre49sJYGzCwhQz14E601A99q6u4WL7O5WtlyJQKLT7vfCzK6Tln4a2bmOddlz0gxcJzo1fH1S//rgKYj81WsMn9Yaoy3v8pj9fHF6+3RGS+QCTtQb4Sc07V3f5DdvJUZdQN5lYQ0CAtQ1lLI8EiCwfIHW8FGTYT/Lea6Cj7yx0zHxW59/w6dj4h92rtwwvCGaOuyY69mrl663s6w2yV6ZAFyvsUxgmgIC1GmWi1QRIEBgD4HML+3e1J0AKc30PY5i0+MJZPZvxohaY3rHO7wjfUUgn/8WteHTrwCN+KK50TRzN/K3tY8m031HTNqiTtW94JfsRT6f/6GL//3798uWFghMVkCAOtmikTACBAjsJJBe89bwUbObNvpOfCfbKC3ITKjr3pt6shOu98Ctz7/h0zN+FB48eJDJ7c3fs2fPPvnkk/ws51Ckmu+IL8hhhTX0Owh5KlvwM0wa9vx1Dx7z3qcVdLe0hsAZBQSoZ8R3agIECBxBIK3zbm+64dMjyG47RNMWTIs8T8gcaoJnKLVbOtsO7P09BBLhtIR1zezBd+JNM6Ca/oJEqkMDet1H0Z44RQs5fOsz3+QqY6fNz8w0L2OeNd0M904P7m5mDYEzCghQz4jv1IcLeFT64Xb2XJZAZjbm8YzdPPX2nXc3s+YiAs0PDOY3MxKppgne+4syGd9OjHqRs9h3s4Dh080+E3k3V6TeYKk1N3siqZ1pMq5fv95Kee9jCHZ5kFXrOF4SGFnA76CODO50PxNIXXVwzeTZmD9ztLRigQQ/edBIF2Co47y7pTVHFMjYRfrOuiWSCXUZ7hgaYj1iAlZ4qO7waUaHWo8q7Y4X5Ta80kbPfMgVup0ly+nByY3ZrVPnIpY/nc4tlsNedptG3TU5cu/o62FntBeBEwkIUE8E67BHE/jss8+OdiwHIrAsgcRC3aZGAqHeobxlZX2iuUnXQIKfbtdb1uStiSZ6zsnqPvGlG45285dvTfeL093MmuMKJFhKIJpwtHXYFFnv4GprMy8PEBCgHoBmlykImOI7hVJYaRp6xxO6bYvumnj1XnNX6ijbaxXIzN7usy7S/sstkYYjzvih6J1T9/Tp0zMmyakJTERA3X2sgnCRP5ak40xTQIA6zXJZRapefvnlbj67favdbbLGpbmXxcr1CKTjpvfOxoydagKe92OwY9fbeRPp7AQIzFrg8uXLs06/xBPYLCBA3ezj3RMK9Daju9OuuiOo5gKdsFQceg4C6cdp3WXXpHrDb9/NIVvSSIDAwgV6+6B7GwMLh7hw9nq76bstqN7zAO9lsXJSAgLUSRXHuhLTe4ksD65oLFKZdeuz3h3XZSe36xbIr9t3vxd5lmx++27dMJPIfbdPLcnqbU1OIrkSQWAsgVy1ut+OfDV8Ow4ogd6GUDdA7YLnXMAPALfLyAIC1JHBne5nApkI173Cth4u0nrZ7Hz16tWfHcUSgZUJJArtfi/yVfK7MhP5IPT+rqP5eCcqnTyD9/Ntf91JN5lrUHY6UcIctivQ+4NY3dLp7mhNVyBu3Tiz1cWfvboha1ZqRHU9rZmagAB1aiWyrvR0a6ZcTOvnvrz77rstkVyRM1LUWuklgZUI5NvR+tXHZDxfijTTu42VlZiMn83u8HVJQ371pNt9kHddtQqRhXUKZCive+0KRfenO9fpc0Cuuy2oXHxaV6duyJoTdXc84Ox2IXBSAT8zc1JeB98icOvWrW6Xan45I03tXEDzVrepp523xdTbyxVI9033NzaT3XxfMul3Q749OWkDzgFvXbp0Kb8Zk6f11nNAUjqJTnub4L2zRQ44r10ITFygeXJb66uRkCm1+dBXw88vHVymca479JvjxLn8zFjkc1FqHT+XIwFqy8TLCQoIUCdYKCtKUnOhbEWhuaT2PgCmccnUrBUBySqBSqD31tO8n9Aof9WG7cVWn3r7ba/3EchAUDzT4M5f9muaelnTe69Xc2BXrX2AbTtjgdTm+SL4aoxThOmvTyOqdfEP/osvvnj79u1clNKhmX9bien9HazWNl4SOLuAAPXsRbD2BKSr78qVKzsq5Jqby/GOG9uMwMIENoRAC8vplLPTag62+te6KU8Ea4yoy2LNIgXqa9TWr0biK1+NC34M8uiBbod+BlHz13vktKDSjup9y0oCkxJwD+qkimONickcuR2HF3bfco2O8kyAwCgCdRN86wlz1Xrw4MHWzWxAYAECWyPSOo/5aniuWw1y2HL6v/YKOHM58rSCw6jtNbKAAHVkcKfrEchTSbd2o+aS6sLaY2cVAQLjCvQ+dKQ3CWk7enhVr4yVixTYve8mNb6vxrE+A5mGtrUF1ZwrPQLpFzjWeR2HwEkFBKgn5XXwXQVy3dwwjpp23rNnz0zu3VXTdgQInEwgv9CwdQgiF6tc0zTBT1YIDjxXgXw10tecb8fWL9Fcc3iOdMdzM2ni0idPnuwYx54jB85JoC3wQn4KrL3OawJnEsjNXXkkXX5FMB2xubM/l9T85Yb+BKhnSpHTtgUyias7jysFpIzaUid4nbkGhx017RL9O4fR9e6Vq1O+BRlKba5UzcBRhPOXS1YiWA8b73U718o8yLR157BL1onKIl+NVOJPnz7tfjWa70W+ICc6tcM2+E0LqvnAf9GEevXV/JCPK5KPx+wEBKizKzIJJkCAAAECBAgQIECAwDIFTPFdZrnKFQECBAgQIECAAAECBGYnIECdXZFJMAECBAgQIECAAAECBJYpIEBdZrnKFQECBAgQIECAAAECBGYnIECdXZFJMAECBAgQIECAAAECBJYpIEBdZrnKFQECBAgQIECAAAECBGYnIECdXZFJMAECBAgQIECAAAECBJYpIEBdZrnKFQECBAgQIECAAAECBGYnIECdXZFJMAECBAgQIECAAAECBJYpIEBdZrnKFQECBAgQIECAAAECBGYnIECdXZFJMAECBAgQIECAAAECBJYpIEBdZrnKFQECBAgQIECAAAECBGYnIECdXZFJMAECBAgQIECAAAECBJYpIEBdZrnKFQECBAgQIECAAAECBGYnIECdXZFJMAECBAgQIECAAAECBJYpIEBdZrnKFQECBAgQIECAAAECBGYnIECdXZFJMAECBAgQIECAAAECBJYpIEBdZrnKFQECBAgQIECAAAECBGYnIECdXZFJMAECBAgQIECAAAECBJYpIEBdZrnKFQECBAgQIECAAAECBGYnIECdXZFJMAECBAgQIECAAAECBJYpIEBdZrnKFQECBAgQIECAAAECBGYnIECdXZFJMAECBAgQIECAAAECBJYpIEBdZrnKFQECBAgQIECAAAECBGYnIECdXZFJMAECBAgQIECAAAECBJYpIEBdZrnKFQECBAgQIECAAAECBGYn8PXZpViCVyvw8Zd/r7322moFZJwAgWkKfPjhh03CXKCmUECffvrpRx991KTklS//ppAqaSBAgACBHQUEqDtC2ew8Ah988MHDhw/T+Etw2qTg888/P09SVnzWa9eu7Zj7V1999d69eztubLPjCuTL8u6777aOefPmzTfeeKO10suLCyQEaq5OCYTK1ak5bL4F169fv3379ksvvXTxEznCjgJNiTx+/LiuL5p9UxDpOLh165bugx0xj7uZS9NxPR2NwBoEBKhrKOX55TFNjXfeeSet7SzML/WLS3EZHVpczhaVoTt37rQipWTv6tWri8rkNDKTq9Pbb789dHVKyJq/XL7SWaN3YIQS21pfZIPESPlLgPree+9lSHWEVDlFBFJ35JvSW4O4NPmEECCwQcA9qBtwvHUegbt37166dGlD++88yVrrWXvbFmvFmG6+863pRqfTTe7MU/b8+fOh6LTkLBu8+eab6TUoayycSCCf/B3ri1zNrly5ku6DE6XEYYtAqDP1Jn9qkGJigQCB3QUEqLtb2fLkAmnSpfWwY1Pj5KlxAgIzEcgXpzu5dyZpn2UyL1++vGO6M9aagbsdN7bZYQKZU737bOp8WW7cuJF/DzuXvbYKCE23EtmAAIGtAgLUrUQ2GEkgLYb0turbHol759Po/96Z6mwbJgrS4B5Tf685ogZRRyiavW4uzYhrvjIjpGqFp8isAaOmKyx3WSZwdAH3oB6d1AEPEdganTZ95O5aOQTXPosWyHfH8OnIJVzCoUSqWX755Zc/++yzjJT2zrLOyrz1+uuvj5zIVZ0uY9plpPrLp/a+kuznqzHU45mvTGbFr4ponMzmuzDOiZyFAIFlCwhQl12+s8ldul17WxJparz11ltpAmZhNplZVkKfPn3aylCe+zLUClFMLasRXho+HQG5e4p8C/KE5BKpZoM8EimDpb1Dc7m4CVC7hkdck4LIvSEplDyqN72Z5ciR761cErtmbkhdfGUXCxcRqPEvchz7EiCwcgEB6so/AJPIfnq+S+d3naCEpjq5a5CzLKcl1zpvq13eetfLMQWax8OMeUbnagTyMNguRWLURETdWfH57ZPuxtYcUSCh5pMnT7rRUdY8ePAgjzboXscEqEf0L4dqFUHTxewyVXwsECCwo4B7UHeEstmpBNJuSA939+hp/4lOuyzjr+nOWjTsMH4pDJ0xo0b1W0awa42zLKf75iznddJWaFRA8qXIyGp5WRa6c0PKWxYOFoh2/rJ7HluV/ppnz5714h98fDsSILASAQHqSgp6utnsnaDo9wOnU2DdAHU6aVt5SlI077//fkFIi9A80qJxroWmdd46++7PmG3t6OVRBHofXtAdUz3KuRwkPZiZ/ZTQ9Pbt2zQIECBwmIApvoe52etoAt3nu6R6U7EdzfdiB+q24QyfXkz0mHu3hk9z990xj+5YBwl0vzI5TG+AdNDh7XSIgA6CQ9QO3ad39vuhB7MfAQIrFTCCutKCn0i2M/7Tbc+l83UiyZOM3idXYZmCQGv4NEnKVLo8S3YKaVtzGh4+fNjNvpHtrsnZ14haz14EEkCAAIEhASOoQzLWjyHQbczlPqJmjC7t7zzEIv8mHVmTvzES5BzbBDKDMeWSf/O3bVvvn1Cgded2otOUiA6FE4rvcOj0uOWvtWGiU1+WlsnIL3u/F/llmpGT4XQECBAgsKOAEdQdoWx2EoHuw3szTTFjqml8X7p0Kf9mEmP+8sPf3/jGN3p/v+EkyXLQnwokFv3p4k/+n/Z3iiOlkxK5ceNGtwRb23t5CoGUS6tozDs4hfPux0wIlOtV/lq7ZJgud9S3Vno5skDv85CGHqo0ctqcjgABAgS6AkZQuybWjCTQamE3Z017LsFPd95v1uQ3BtPOcH/LSMWz7TQpkUSn+Us7L4WitbcN7Jjvp9emPlwzfFqvsTyOQC5KCU3z171kJQG5mj169Mjw6ThlMXSW5krVfdesnK6JNQQIEJiIgBHUiRTEGpORVl032xmC6G3qNVtm+C4twu5e1pxIYJffb0w55mcGuzMbT5Qkh/1y9PTD2sHwaa0x5nI+/CmO3ktWumwSneq4GbM4es+VTrRuASU6dQ9qL5eVBAgQmIKAAHUKpbDSNPROu+q2JFo6mejbO/Ta2szLkQXSs9Db4zByMtZwOsOnsyjl/CCqsdMplFTr+9Ikyc/VTqFopIEAAQJDAgLUIRnrTy7QPACp9zSZsphBoaEpWPfv3+/dy8qjC2SQIaXQ/G1tbeeW1KMnwAFbAhmpbnXQGD5tEU3kZeZ6ZGZBq7Amkrb1JCPfl25Fk0tZqpj1IMgpAQIEZicgQJ1dkU09wXfv3n1h419psXXbDU3enjx5knsac5xMkOttRqTNsXWgdepMZ0rf7qXTJPDBgwcpheYvP7z+ySefpGiGItUUaIrmTDmb8Wnz0KmN35gX6ry1hoPyBRkqjnovy1sF9v1qbD1gNsg3IoXrS7GLVXebzV+KwHZ3aa1JNdH6vjQb6NNpQW1+eYqvxuYzepcAAQICVJ+Bswn0BqhpOtR3beUBmL13CplNepZiS1kkIkqk2ttxkCR1fzfoLOlc6kkT6rS+NZra5y3rXKDSfZN+nNu3bw/1FGQotVVq503zes6e6LQrn2IaunytR0ZOCRAgMHEBAerEC2h1yWv9on0iotaaRqQMw64OaBoZzjhq5v1206JcuiZHXNMaDko7eygoOuJJHWqDQHrT8kXINSqRajpuen9RJuN4Hu22wfBEb+Va1PvLZLl2neiMDkuAAAECxxLwMzPHknSc4wjUw6fNEXt/Tv358+fHOZ+jHCqQtnhusWvtnbZ4/noHvVtbermvQHf4NPMIWhMduzMLcsN2eRRzxvr2Pant9xLIOGo+/N1fQ82DZDOUpzdhL8yLbJyrULcUcsD06fT2rF3kXPYlQIAAgaMLCFCPTuqARxbohqw5QXfi1pHP6nDbBFIuaYunIdjaMDGSJmDL5Cgvu88G64aj3RPlm+LL0mU53ZqEQCmp7lSCrMlbpzuvI9cCiU67H/t0EPQOcdc7WiZAgACBKQiY4juFUlhUGvJAhc83/pXoJeHNonI+h8zsXjq75Ka372CXHW1TC2Rgc+M35vN6Y8snEjjiV6P3J0x6f1XrRHlZxmE3fyk2TAfIzN4MWbcQUt3kVmGVTotll5dH/GrscjrbECBAIAICVB+DswkIb85G78QECJxMoHcq7y7D3SdL0YoOHOfeO34zdqrGWdHnQFYJEJi5gAB15gU45+T3dmZ352X1ZlFTo5dl5JXd+b1JgKIZuRScjgCBRiBXpNZd2c36POza/GofEgIECMxIQIA6o8JaWlJ7n37UDVB7Rx5efPHFpXHMLT9pC3aLJp0Ovf0Oc8uc9BI4XKD7vcixfC8OB915zxs3bnR7zfKM5UxS3fkYNiRAgACB8wsIUM9fBqtNwY6/H9P7wN5yI+tq9c6e8d6fcFAupyuXrbeq5p69rn/Gjsq9fKdLmyPXAr2/BtzbH1fvZfmCAolCu8+myoQOvytzQVi7EyBAYHwBAer45s74E4E0HbqjCt22XbfNkf27DXGsYwpkjKj1m5zN2a9fvz5mMpyLwFkEusN0JRn5NaDeS1Zvf1zZy8IFBfJUpO4VKfVLunW6tcwFz2V3AgQIEDi1gJ+ZObWw428SyH1BrYG4RD5papTGXJp63fly7ibaZHq895pnjeSRpPVtpWmap8i6bcGcNs+GUTTH43ek6QpcunQpH/XWVyO3JyQ6Hfpq1F+i6WZsnimLfO+vniY0zaTfDXny5KQNON4iQIDAGQUEqGfEd+qv3bp1qxWgBiVNjURBaf8lOu1tdvT+igPNows0vQNNATVD1imXbn9BOW9mk5ZlCwSWKpCvQNNN46sxkSLuvfU0aUvgmr8NiUw5bnjXWwQIECBwLgEB6rnknfcLgYy5JappjTmk0ZC4tDc0zS4ZXDW/d5xPTx2LJljdfNKUi+HTzUTeXYZAK+bZ+tXI9cpX46RFX1+pTnoiBydAgACBcQTcgzqOs7MMCuTJFrtPfktA64kXg5RHfWNrs7s+W0pQudQglhcssFc4lK/GgwcPFqwhawQIECBA4OgCAtSjkzrg3gJ5jsUuMWpuKEpTzxMv9vY9aIfdW+EZHfIkkoOM7TRLgcePH++Y7oyd+mrsaGUzAgQIECBQBASohcLC2QQScz558uT27dsbUpAZpM+ePdsljt1wEG8dVyAD2ukyyNipXoPjwjralAWuXr269QPfzPUQnU65HKWNAAECBCYr8EJ+Im+yiZOwtQnk5q48wje/NJPhu+bxFRmCSFDaelrm2ljOld8UQYrj6dOnTXE0Y6ppeecvbfR0GegvOFfRDJ03T5Ft3SGZb1D+hra3/jCBfDUyBz5Dqd2vRr4UzbfjsCPb6wCB3CdywF7ZJbM/cjU7bF977S6QL0v+Wtu7NLVAvCRAoBYQoNYalgkQIECAAAECBAgQIEDgbAKm+J6N3okJECBAgAABAgQIECBAoBYQoNYalgkQIECAAAECBAgQIEDgbAIC1LPROzEBAgQIECBAgAABAgQI1AIC1FrDMgECBAgQIECAAAECBAicTUCAejZ6JyZAgAABAgQIECBAgACBWkCAWmtYJkCAAAECBAgQIECAAIGzCQhQz0bvxAQIECBAgAABAgQIECBQCwhQaw3LBAgQIECAAAECBAgQIHA2AQHq2eidmAABAgQIECBAgAABAgRqAQFqrWGZAAECBAgQIECAAAECBM4mIEA9G70TEyBAgAABAgQIECBAgEAtIECtNSwTIECAAAECBAgQIECAwNkEBKhno3diAgQIECBAgAABAgQIEKgFBKi1hmUCBAgQIECAAAECBAgQOJuAAPVs9E5MgAABAgQIECBAgAABArWAALXWsEyAAAECBAgQIECAAAECZxMQoJ6N3okJECBAgAABAgQIECBAoBYQoNYalgkQIECAAAECBAgQIEDgbAIC1LPROzEBAgQIECBAgAABAgQI1AIC1FrDMgECBAgQIECAAAECBAicTUCAejZ6JyZAgAABAgQIECBAgACBWkCAWmtYJkCAAAECBAgQIECAAIGzCQhQz0bvxAQIECBAgAABAgQIECBQCwhQaw3LBAgQIECAAAECBAgQIHA2AQHq2eidmAABAgQIECBAgAABAgRqAQFqrWGZAAECBAgQIECAAAECBM4mIEA9G70TEyBAgAABAgQIECBAgEAtIECtNSwTIECAAAECBAgQIECAwNkEBKhno3diAgQIECBAgAABAgQIEKgFBKi1hmUCBAgQIECAAAECBAgQOJuAAPVs9E5MgAABAgQIECBAgAABArWAALXWsEyAAAECBAgQIECAAAECZxMQoJ6N3okJECBAgAABAgQIECBAoBYQoNYalgkQIECAAAECBAgQIEDgbAIC1LPROzEBAgQIECBAgAABAgQI1AIC1FrDMgECBAgQIECAAAECBAicTUCAejZ6JyZAgAABAgQIECBAgACBWkCAWmtYJkCAAAECBAgQIECAAIGzCQhQz0bvxAQIECBAgAABAgQIECBQCwhQaw3LBAgQIECAAAECBAgQIHA2AQHq2eidmAABAgQIECBAgAABAgRqAQFqrWGZAAECBAgQIECAAAECBM4mIEA9G70TEyBAgAABAgQIECBAgEAtIECtNSwTIECAAAECBAgQIECAwNkEBKhno3diAgQIECBAgAABAgQIEKgFBKi1hmUCBAgQIECAAAECBAgQOJuAAPVs9E5MgAABAgQIECBAgAABArWAALXWsEyAAAECBAgQIECAAAECZxMQoJ6N3okJECBAgAABAgQIECBAoBb4+qeffnrnzp2PP/64XmuZAAECBAhcXOCll166devWa6+9dvFDOcJEBD788MN33303jYeJpEcyCBAgQGAxAq+88sq9e/e+pt2wmBKVEQIECExQIDHqs2fPPve3CIEUZQp0gh8zSSJAgACBZQgkOP176QpdRmbkggABAgQmKJChNpN0JlguhyUpRWns9DA6exEgQIDALgIJTt2DuguUbQgQIECAAAECBAgQIEDg5AJfr8+QWb/5q9esbTl9w/kruTb/uR5g/wc/9/N//x/+fMFZ4cLf/fhH/+O//6hk/Bf+8S/+b//7i+XlChf+9m9++L/+52dNxhABN4wAAD34SURBVDPr79VXX10hQsnyRx99VEaWaIQiIAXHwlIF8q1f+Yzf+oufGiH1wlLLepd8pUZIvVC2VEv+4PvfKxoaUa1GlDZ23cYWgrVCsK8EqDdv3rx79275Lq1wIdl/++23S8YfPXpUlte58MILL5SM/+pv/OZv3fm98nKFC3907zt/9N3fLxn/3be+881v/VJ5ucKFf/kbv1Jq37RTV/59uXbtWqlsaIQiICv8Uqwty3mUxcpbmfUXP/HYv/2zv1rbZ6DOb2qE1AtljVry//yHP+vF1ohqNaJW3mbI16RuYwvBWiGYKb7lQmqBAAECBAgQIECAAAECBM4p8JUR1H0TkklcH3zwQcZkMzD9+uuvr3OeTxkzMTqfiT1/+19/mEmwmeb0zX/ySyuf6ZRvUzPZ6Qf/+YsZPjF57Zd/5e//3KrnSJcvS64VGWPc94KzgO2LQDcvKx+G6oJYsySBzINNayE5SlNhnd/9Upp/999/9D9+/JNbRVY+BycmGXFNsyF1Zaa/RmO1VWRpPsXkF/7RL6a1UD4wa16obxVZZxu7Fmh9Ehbfjjo8QH3nnXcyGzZ2Ddmbb7751ltvrWqGcNqayXW5Z3Vt2S9flVQtf/rv//Av/+yP6/sz827qm9+5+511Xmdj8t27v/cXf/4nRSkLf3D396Lx1nf/cJ13rr7//vv5vjQgCcZWOLcnbfQNs17zEyT1p8UygWUIpIrMF790zaTZkAD1vffeW2GYmnohN4mkuiwl+9c//sk9/GXNShYSpYfiw//4VzGps5wYNbOCV9W7HYS0FlrNpzQS0lRYZ/Op/jzcuXMnLYdmzTrb2Ml+EGqTsrz4dtSBU3wTiIasRKeNVyqeRK3FbsELTUMzbc0SnS44s1uzlp6/1DSty2v2ypp/9S++nYvv1iMscoNWdNrkMRr1/TmLzPhQpuq7u4e2Wfb61gVz2ZmVOwIRyGf+ypUrJTptTFKB3rhxY21fh9x993996xfr6HTNn5DUj/mvFZ0GpLmFNeHrenB+8P3/1G0+RWbNzaem9NPALtHpej4PrZyu7TpZZ/+QADW1S93WrGemJWpdfMyWzuBujVubrm25TFL6Ymbvt9oze9/+nd9eG0jyG4qmDzj/xiSDyQUh8fwK2yipZhZ/ZShFPLRAYEjG+qUKpLosDax6hl6+C0PDAsujSNCV0DTduN14bHmZ3TFHuQmo2bKZ2VtXkVHKbKMdj7OAzb75rX+aXDTNp9KaavK1zuZTKdM60Cgr17bw/PnztWW55PeQAPXdd98t+z958iRT9erZevW7ZbMlLdStzDo4X1Ie983Lr/36t+9+9w8f/c2P8gDDP/l/v5f/crVtDpLK5i+/OtN134PPdPtf+/Xf/Ivv/zAUMfkP3/9hiEpG/uLP/7gsr2EhLVQ1TQq6XDpy3ciE3tbfGj4J8rgqgXzgm/tOk+vcevrsy79SaabTqsSui2cpQ2SJxOpgbPEZH8pgIrH811SOzb9pQpSNM9VoPYOo+TyU5lPTgqqbT6udg5aRMMOn+UaUZkNmOLfaDHXkVb47S1rYO0BNjVI+NG+88UZzG0mqnHI/SamQlsRU5+Xq1at5mbynts0npn5rtcu5WeJXqwAsw4a/e/c7ReO//c1/KcvrWfhn//y36+c91LeeZhB1PQ7JaWb+NxfZcpVYVfZLZktX6ModCoiFZQvUvdX5NZoms7du3Sq5XnxroclpMyzWxCHprFz5z4mX0k8wVg8YpglRd+P+t9XUkmkvtZpPv/U7/7oo5QlSZXlVC2WGxcqryxKgrtBh7wC1vpkkP9pTvjDXr19vlqNZQMu7S1pIaJp+izzjIROWlpSv4+blavUMutVeYVukzaTf1srFv0yXVtNOzfelXCUWn+veDJYL44sv/mR+Qe9mVhJYhkBpLaQLu1SXGUotuXv8+HFZXvbCv/l3f/LH//F7dRyy7Pwelrurv/yrZcc1NxvyFN/isM6FXDqaq0fa2+v8fZBS7qXZsEKHvQPUDLsXuDJXJ2vq5eaDVTZb2EIq2jqzC8vdsbJT5qgc64ALOE65AWlVkWqGT5uJfJlusJ72aO/HtdQ0K+wK7QWxctkCpbXQTDsqmS0V6LKbCiW/WcjjWNWJNUjvMqKGpTQV8nKdwWq5JyjNhvVcJbpfitJmyFsrbDbsHaCWJmYrmq9f1qZdcWvWIFBfYd1ykxL/4tfefjpnKbenruEzkDyW4dNcH+qRk5Vkv5XNcmGsr5atbbwksAyBulnZ+sCXl+UbsYwsy8UFBTQbGsA//ff/T7OQiH2FvzSTS0dz9UhPVpl5ccGP1kx3r6+Q5bI507wckOy9A9RyjlY0X7/87LOv/LBV2cXCegQSj5XM/sI//j/K8joX8pioPDK+yXvrhpNlg5Th09x4tsLLa124dU2T7uH8zEa5NbfezDKB5QnUzYPk7vLlyyWPzfSK8tLCmgXygysl++scOcyjodJUKM2n+lkeRWbxC/Xw6eIzuzmDpdmQ5lN+2DIPRV/Vs+W+vlmn+27TsdFdX68pE3vqlZZXJfD4P/5lyW95oHxZs5KFxKV5YG8GTkvHcKLTu3/whyuZyFQPn96+fXslhT6UzVLTZIPmKponxOQ5EJHJLKaVR+9DaNbPV2CXpkJyl9ZCmfE738xK+VEEHv/0V9NTRa7qRpjo5QfS004o06yyJo9KWuFNy7luNJeOXBZcGUqzIa2phiUBapoNaTOsoU21d4B6lMuQgyxbINfZ8mz0zO9dW01TCjc/LVC6QrMyle63//n/vR4Nw6flk5CFUtPUK7PcjKM+ePCgtd5LAgQIrEcgdWX5MZ4Vzmutmwop9AjUzzRez8fA8Gld1uXJ//XKBKvNI44XH6MePsW39rJMoBb403//h2XMsH5ger3NCpdjcvd3frvpKF189g2ftoo4TyNsfsTsk08+STha9w1nKLX8dldrLy8JECCwBoE/uvf7JZuaDeni//Yv/9LafkP+y9HTD/Mx+GLw9LXXyudhtQv5uZCm2ZBftWz9dEhi1KFe78VwCVAXU5RTyUjCsD/9dz+5xT/Dpyuco1JK4rfu/N5f//izv/j+D/Mz3OVJUeko/e7d3yvbLHUhV8/EqMmdu09bRZzZvHleVH6qKiFreav+xciy0gIBAgTWIJBqsQwhZuSw/gnxNWQ/eUxTIf/lt2HLwGmaUn9w9/fqSb+Lp8g9lk0eM4V18ZndK4N5WFQaDE+ePKnv5198s0GAuteHxMbbBd7+nd8uw6e/c/c723dY+hapaxOl50fwSoz6F3/+J8uuddKx1wwJJhhb/CyUgz+/dYeo+/YPZrQjAQKzFkiDIc2GJgu5EWbNw6ff/NYvvfXdPyzPRopMPbA861Lemvi0GZohQcOnQ1ZpUNV3Ay2+2bB3gFqH70OIrR89G9rM+uUJZF5Kufs0N1Gs8E6SoTJNvVuH6x/+f381tOUC1pfbSJKXPK42T59r/sr1NAutNQvI9QFZqGcxNY9AOOAgdiEwQYFdmgpJdv0VmGAuJGkEgT/67u+Xu08Tna5w+LSF/M/++W+XZ1WUBlVrm+W9LM2GhKk/bTJ88f+S0/v37zfry5oVLmQoNX9NxhffZtj7IUnlaZOlrdlItV6u8HMjy3lCet0Pmo5AJrVAHa5/8Tz9O4ud6Nv0gybv5dFztUO9vpkG3Hp3PS9ffvnl9WRWTlclUJoKyXWaB3Ug+vTp01VRyOwGgQRgeWhFs0HGDxObbdh4PW+99su/WqZZZfJzZBaf99JsyEJZrnM9tL7eZg3LCVB7fZaX98NHUFsty/rljl2ny9NceY5+9198u0zu/Tf/7k8yZrhyENknsLtA3aDffS9bEpimQN0MqJsHSW15WW8zzVxI1UkFWp3aaTac9HQOTmBJAotvM+w9glr/xHbGl0u3aD3WrNZZ0ndgx7zUd/Nnls4aOvx2lCmbpTIuy8uO3u/du1faoCXLWciTk5qpFrlEZJusWfm14uHDh8Vn5RTFwcIyBNJ4Kj39jx8/rjNVWgs+8zXLCpd1ag8V+t/9+Hl5a9mthZLNPDiwLNcLZZZvnhJ08+bN+q0VLqdltZ7r594BaolI88lI66q8LC2tVDllhvQKPz3rzHI9SycTWfP02nU6bM51no1UNvjmt/5pWV7ewlC7s3T4ZaFcOpaX/R1zlGqm3BmR5/ruuJfNCMxFIN/x5mFp+ainXdV8/fOjSiX9169fL8sW1iZQd2rnsUA6tcsHIDPRyq2niU7L/ahlg0UubG0S5I6YrdssUqbOVH44vbxc/PVz7ym+CT7LRyR1T9PAqltaejjKp2clC61ZOr/667/ZPDK+/nclFCWbuXukVDDNytxmk0dBlA3q+1HLSgsLFmha6iWDuWbm8VHlZX6MpyxbILAMgbox0PyyfPJVfhoh8ap+mWUU9AG5qDu1E4D9wj/6xbrBkOVyB+YBB5/XLvmx03p2VZbrH0vXVJhXaR4xtbnRNO2E+oCJTsujpHL9rH+prt5sMct7j6Am5/mFokYtfaJXrlxJvFoQ10C2mLI/VkbqWTrp+ftX/+Lb3SPnB766Kxe8Jg/pTTha+j7/7sc/Kk8pTK7zHAgPKlxw6Xezlo68/MJb/prevVw5y9hpNk4zvfT6dfe1hsBMBfKpzl/TPEgHTbNQHu+hU2amxXrxZNed2jlaYtGEZK3DZkA1PwraWrnIl3e//ImdROnNVN4E5yWbWbPmH90pDutcyGST9OslqmqmpOXKWS6eAUkglreWLXNIgJoqJ4F7GRBoap2GKb/st3iyZX8gDsjdeno6d8f527/5L9k44Xpd2TS752e4y6+c7X5AW7YE6hgvV6TWu1N7WcLR+mrZJDJ1Ty6bU0uw9BA4ikBuNc8tZPm25mh16yof+7t37x7lFA4yO4H/8eMflecpzi7xx01waT6VhXL8RKcJ0fVlF5CLL3wR4X38cY5Tor6LH/N0R2iedp6LZ7fZkBBsDb8wf0iAmvJoAtF6MnTKOyt7Z+yUW5zrgkz91DwlpV6Z5bTkylyg+q1MFlrkcHbi/Py4U53TrctDdFt3nNEG3f7UJD6zgOYS2vVWKk1v6AGP0U/V9Qdv99zW+2u//pu/+us949UzKuh9k5raJVME07PYVDNl93wpMiAz2UtE00AvqW0Wcs1MmkdoppdnU7USsIYrSSvLXo4skM9Ynn2S2ez1FzbthM2dMvs2A4aq0bQxkoCRszzC6b64e/O//nCvEy2+sshE2b/48z/umvzuW9+Z+D2c/+Dnfr6eYNVkIQPId7/7h70NiW4ee9fMvRHVm6nDVibASzM7zYZWRZwLUargyXZwt1Lb5D13Weay1htqHYYztFdv4JaNx4zFDgxQk8oYpWhT8Kl4UgekjIfGTrvR/5BI1qdIere/evXqhr3O9VZT+zZnP+zRUNHrze+5cnTAeU8xD6c78HhAws64SwLpzMxJYPmD//y9Jhnf/Ce/dPBDIHpHYnPY2T1pKReN5po7dK3YXGQJtOpOsXrjtGgzgTa3Zzx48GCCTdJ0duYv3/TyZc8FM391Fk63HJxy3tOdxZEJ9Ark+/js2bMvP/sf5oufj/3Wb+i+zYCharS3hdebyDFXJmS64PhhotN9q8hJVRaJGLc2G5r5rruXS2K8XpMLUu+egMO2DMV/+P4P01RImTZhauLVNBUuEpo2KenVOCyR592rPN33gDZ2rgDpHRuq/hKy5i9XpDQbDmuTnFQmqWquhKnBc6IdL57HStIQ2pix2OEBahTycZnskMWxCmnzcZpPzOZtFv/uwXHXsmVSv0YGTl3KWxum9cb1ci7T6c9rLtP1+tZy2qm5Kz6DM9O8Ln0Rko4VlNYyQ/X60Pp6X8sEjiJwrg//URJ/3INMfEDvuJntPVpTOfa+tc6V+Uj4VAwV/cGVZhoM5f6CoYNnfSKxS5cuJQw+uH2y4eAXfCshRgZL83fB4xywe5oHaVB1dxyz2bD3U3y7ybWGAAECpxPYMTotCchQ6lDnX9lmVQt5On9vfofW925sJQECBAgQmIXAjtFpk5emjZF/Z5G1cRI5FIgOrT9FqgSop1B1TAIEjiYwdAvlhhNkVo/KZoOPtwgQIECAwCIFUvunn3qvNkA2rn/4bZEss8uUAHV2RSbBBFYkkFtEygPDd892Kpvyc2G772VLAgQIECBAYNYCqf233hDUzWAmXqW90V1vzbkEBKjnkndeAgS2C/Q+0zu7ZZ5JfgcsTx7KTRq9R8njlHrvoOjd2EoCBAgQIEBg7gKp94ceppjbWdNs2PCIiqH2xtxNZpr+Cz0kaaZ5nkWyc8f2wbeGzyKDEklgq0DGTnuDzDzMIF+QJjRNfTP0/KTsPsKPuGzNhQ0IECAwgsBf//izEc7iFASmLDA0eSpxafl1q/wESe/zk9LeyDiqtvdEytcI6kQKQjIIEGgL5CdP26u+fJ1qpgycZiG/XtO72b6/MNx7ECsJECBAgACB6Qvk7p7ee4Iy5apuJ6SPOzFqb3Y0G3pZzrJSgHoWdiclQGCLQPoye28jySPXW4+DT39na01z6KEjbDnx4t4uwXwrZ0PrW5t5SYAAAQIEpi8wdBNpwtFWfZf7g3qzM3SE3o0XvLLFVXI6tL5scMQFAeoRMR2KAIGjCQzVEzdv3uyeo3dlNhs6SPcIC17TG70nv0PrF0whawQIECCwVIGHDx/2Zq1732kCrd7fF80YrJ+pi+Hly5d7JcdsNghQe4vASgIEziwwVNP03h8ydNF8/PjxmbPh9AQIECBAgMDpBXq7pNM86B33G4rBBKinL6idziBA3YnJRgQIjCzQW0kM1TS9UWsS3DtJeOSMOB0BAgQIECBwUoHeNkPOONQ8GFr/9OnTk6bTwXcUEKDuCGUzAgTGExgKLPOog6FE9L6V6TpD21tPgAABAgQILENgqNnw8ssv92awt82QLTUbernGXylAHd/cGQkQ2CLQ++sy2WdoTk7eGqpshnpVt6TA2wQIECBAgMBMBJ4/f96b0qE7gLQZermms1KAOp2ykBICBH4iMNQVCogAAQIECBAg0BLQbGiBzP3l18+VgXyS8ju53bMbW29M7ty503tXd97NrzkNdQh1Pa0hsCSBDZ/8q1ev9g6WuqQMXUmG1i/pAyMvSxLITxT2PvZsaMLFkvK+S17+5W/8ytBm//bP/mroLesJLFtgQ7Mht6EONRtWXj/2Zr935ek+PGcLUNNq7P1YnC6r8zryhq4gDe55FaXUHiAw9JSCA66P+Sr1Pk3+gFTNdJeh6nlo/UyzKdmLF0ggKhbdUMo/+P73NrzrLQLLFhhqNh/WbBh6hNKyDUvuepsHvSvLLkdfMMX36KQOSIDARQX0wlxU0P4ECBAgQGA1ApoNCytqAerCClR2CBAgQIAAAQIECBAgMFcBAepcS066CRAgQIAAAQIECBAgsDABAerCClR2CBAgQIAAAQIECBAgMFeBsz0kaa5gY6U79yIP3dg9tH6spDkPgTkJ+L7MqbSklQCBQwW++a1fOnRX+xEg8DMBzYafWZxv6WwBan4h9+bNm92M55d233///e76ta3Jb8ms/Bliaytx+a0Fhn4zpt5mx+WRnzu3Y6psRoDAvgKpE3Nl6O6V357xowBh8Vsy3c+GNesRGPrNmAMENBsOQDv6LucMUO/evdvNT6oZAWqXxRoCBCKQ58gPddz0/kAitEagW3MPMRIjMFmBRKe9zYasFKBOttQkjMB5BdJsGAo4XTeGiqa3hdDbPzh0hIuvdw/qxQ0dgQCBIwsMTbA54Dnymaxx5MQ5HAECBAgQIDAlgWM1G7QZJlKqAtSJFIRkECDwM4Gh/s7PPvvsZxt9dWkodlXZfNXJKwIECBAgsDSBy5cv92ZpqG0wtF6boZdx/JVnm+I7fladkQCBuQgMBaiZqzOUhd63ho4zdJClrs897a3KeKizeakC8kWAAAECCxYYqu7TNnj99de7Ge9tM2SzoeN0j7DsNY8ePWplcOTQXYDa8veSAIHzCyR8yqXw448/biVlqEYZWq+maQA5tD5IXhIgQIDAkgSGqrmnT5/2ZnOo2TA0Ett7kAWv7L0Ndcz8muI7prZzESCwq0BvZZNhwN5KZehRB2qaXbltR4AAAQIEZiuQTu3emUFDzYOhByv2tj1mqzLjhAtQZ1x4kk5gwQLXr1/vzd39+/e764dqmt6JPd3drSFAgAABAgRmLdBb46df+4MPPujmqzdwTZQrQO1anWWNAPUs7E5KgMAWgd6aJvvkZ6hat1NmJnBv9ZOaJn9bTrOOtyOWn+K4dOnSCy+8cOXKFT/ltY5il0sCBAisSGCoX/vdd99tKXQbEs0GZ5/X2krnGV+mZfXmm29+4xvfSLPhxo0bvfH8SZMnQD0pr4MTIHCgQObq9MaoibXu3LlTHzTX0PplWb5161ZZXvnCtWvX3n777eae3syRjtgQ2sqhZJ8AAQIEZiqQNsPQLN+6W7bbiij51WxoKNJaaPqym/GAjAGkFVEbFrHTLXhI0ulsL3TkNMF7v2bNQW/evPnGG29c6AQz3PnvfvyjP7r3naGE/4Of+/lf/fVvD727yPU/+P5/+qPhjH3zn/zSN7/1S8Pvz+CdVBW9Q6NN32dTkaRndKhjb4Xfkd5Czdhp98bdGOYyore4V8xKAnMU+Je/8Ssbkv27b33nF/7xL27YYJFv/eWf//EP/vP3hrL2a7/+7b//cz8/9O7y1q+hEZWGQXpju2WXPtkEXanyEnFlgybuam2Wyb3m9zYm4eoSJTAZ6gJoSR7lpQD1KIzHP0i3QVmf4+rVq/XLlSz/j//+oz/67u8PZTbB2PoC1O/94PuDVe9v/c6/nnuAmrokf73xZwLX3ti1fDxu3769oYunbLaGhYcPH/ZmM+vD2/uWlQQIzE5gQ3WQvPyv//nZ7HJ08QT/xZ//yYaDpBt3VQHqGhpRqfrTbd0NrvIxSFyavw2fh7feemvDu+t5K3q97a5mfe/UtlPgmOJ7ClXHJEDgOAL5Ac8DDpTQVE1T3IZ6u4bWlx0tECBAgACBGQkcXPunu3a00GvinhvaBhveOnqmBKhHJ3VAAgSOJpD5NgfEqA8ePDB8WsoARaGwQIAAAQLLFsgg6r6hZmrJNBuWzbJ77ibSZhCg7l5ktiRA4AwCqWz2upv0vffeM3O1LqchjaEHHtb7WiZAgAABAvMSSDNg97tJE489evRoIlHZFJxDN6Sxb+R/kewIUC+iZ18CBMYQSGWzyzhqflQm1cxe0ewYqT/3OXofS5jqB9S5S8b5CRAgQOD4AqngdmwMpAP3yZMnu0ezx0/rJI/Y22yI1ZhQAtRJfjQkigCBrwpkHPXZs2dDMVVC09x0mmpmaLTwqwdb16uYJMKvO0Sbyrtesy4RuSVAgACBRQukgkvFlzB1qFWQWKvZwO+ldz8Iefh/Gl31+nCNPAt6jKf4fv7553UmNy/nk7TX9puPNv138yHI3/TTOXIK//rHa3ze4BByHsYLJDipRVKd5C/PlyuPmMvKXDfzN6RnfQQS2GdmTp57nOfsRyzLolMfjMkK7NsMWFs1+m//7K8mW3bnSthv3fm9/Heus0/wvNoMTaHkYpK/5vGz5QE/TZshVeEEC246Scq0tYyjptkQvYiNObm3QRgjQJ0Ot5QQILAAgabKWUBGxsxCItKh8ecxk+FcBAgQIEBgTIFUf4mv8jfmSRdwrsTwrXHUMTNliu+Y2s5FgAABAgQIECBAgAABAoMCAtRBGm8QIECAAAECBAgQIECAwJgCAtQxtZ2LAAECBAgQIECAAAECBAYFBKiDNN4gQIAAAQIECBAgQIAAgTEFBKhjajsXAQIECBAgQIAAAQIECAwKCFAHabxBgAABAgQIECBAgAABAmMKCFDH1HYuAgQIECBAgAABAgQIEBgUEKAO0niDAAECBAgQIECAAAECBMYUEKCOqe1cBAgQIECAAAECBAgQIDAoIEAdpPEGAQIECBAgQIAAAQIECIwpIEAdU9u5CBAgQIAAAQIECBAgQGBQQIA6SOMNAgQIECBAgAABAgQIEBhTQIA6prZzESBAgAABAgQIECBAgMCggAB1kMYbBAgQIECAAAECBAgQIDCmgAB1TG3nIkCAAAECBAgQIECAAIFBAQHqII03CBAgQIAAAQIECBAgQGBMAQHqmNrORYAAAQIECBAgQIAAAQKDAgLUQRpvECBAgAABAgQIECBAgMCYAl+vT/b8+fMPP/ywXrO25QjUWV65Rk2R5b/78fMffP97rZWrehmBOr9/+19/WL9c4fL/+p+flVx/+umnK/++RIBGEfjoo4/KsoUFCyjo+oufS+LKa8lWtdh6ueAvwi5Z04hqNaJW3mZofWaEYK0Q7IUWkJcECBAgQOC4Ao8ePXrttdeOe0xHO4tA2pTXrl07y6mdlAABAgRWImCK70oKWjYJECBAgAABAgQIECAwdYG/99JLL009jdJHgAABAgQIECBAgAABAksX+CI4vXfv3tKzKX8ECBAgcDaBV1999XN/CxJIgZ7tw+TEBAgQILB0gQSnL6TSzEMO6rv8l55r+SNAgACB8QTcfTqe9Vhn8nSTsaSdhwABAusSyPBpukG/CFDXlW+5JUCAAAECBAgQIECAAIFJCnhI0iSLRaIIECBAgAABAgQIECCwPgEB6vrKXI4JECBAgAABAgQIECAwSQEB6iSLRaIIECBAgAABAgQIECCwPgEB6vrKXI4JECBAgAABAgQIECAwSQEB6iSLRaIIECBAgAABAgQIECCwPgEB6vrKXI4JECBAgAABAgQIECAwSQEB6iSLRaIIECBAgAABAgQIECCwPgEB6vrKXI4JECBAgAABAgQIECAwSQEB6iSLRaIIECBAgAABAgQIECCwPgEB6vrKXI4JECBAgAABAgQIECAwSQEB6iSLRaIIECBAgAABAgQIECCwPgEB6vrKXI4JECBAgAABAgQIECAwSQEB6iSLRaIIECBAgAABAgQIECCwPgEB6vrKXI4JECBAgAABAgQIECAwSQEB6iSLRaIIECBAgAABAgQIECCwPgEB6vrKXI4JECBAgAABAgQIECAwSQEB6iSLRaIIECBAgAABAgQIECCwPgEB6vrKXI4JECBAgAABAgQIECAwSQEB6iSLRaIIECBAgAABAgQIECCwPgEB6vrKXI4JECBAgAABAgQIECAwSQEB6iSLRaIIECBAgAABAgQIECCwPgEB6vrKXI4JECBAgAABAgQIECAwSQEB6iSLRaIIECBAgAABAgQIECCwPgEB6vrKXI4JECBAgAABAgQIECAwSQEB6iSLRaIIECBAgAABAgQIECCwPgEB6vrKXI4JECBAgAABAgQIECAwSQEB6iSLRaIIECBAgAABAgQIECCwPgEB6vrKXI4JECBAgAABAgQIECAwSQEB6iSLRaIIECBAgAABAgQIECCwPgEB6vrKXI4JECBAgAABAgQIECAwSQEB6iSLRaIIECBAgAABAgQIECCwPgEB6vrKXI4JECBAgAABAgQIECAwSQEB6iSLRaIIECBAgAABAgQIECCwPgEB6vrKXI4JECBAgAABAgQIECAwSQEB6iSLRaIIECBAgAABAgQIECCwPgEB6vrKXI4JECBAgAABAgQIECAwSQEB6iSLRaIIECBAgAABAgQIECCwPgEB6vrKXI4JECBAgAABAgQIECAwSQEB6iSLRaIIECBAgAABAgQIECCwPgEB6vrKXI4JECBAgAABAgQIECAwSQEB6iSLRaIIECBAgAABAgQIECCwPgEB6vrKXI4JECBAgAABAgQIECAwSQEB6iSLRaIIECBAgAABAgQIECCwPgEB6vrKXI4JECBAgAABAgQIECAwSQEB6iSLRaIIECBAgAABAgQIECCwPgEB6vrKXI4JECBAgAABAgQIECAwSQEB6iSLRaIIECBAgAABAgQIECCwPgEB6vrKXI4JECBAgAABAgQIECAwSYGvTzJVEkVgmQIffvm3IW9vvPHGK6+8smGDlbx19+7dDTkNUaA2bOAtAgQIECBwRgHV/RnxL3hqZXdBwKPsLkA9CqODENhJIFe9t99+e8Omr732mgA1PluVBKgbPkXeIkCAAIHzCqjuz+t/kbMru4voHWtfU3yPJek4BAgQIECAAAECBAgQIHAhASOoF+Kz8+kEPvjggwyjffTRRxlUvHfv3quvvnq6c53lyMnRSy+91Dp1d01rg5W8TKF3c5pOze5KawgQIEBg1gK5p+P+/fsff/xxpsakul9ePai6n9fnMxPZuo2QfD7zN6+MzDq1AtRZF99iE5/o9MaNG032EpZcu3btyZMnC5v7mmq4ewVcbInumbFHjx5193jhhRe6K60hQIAAgfkK3Llz55133mnS//7776dXOtX9fLPTm3LVfS/LZFemoyR/reSlG2XzzUet7b28oIApvhcEnPfun376aULBN7/8m1ROUmPV6Uk6XRdqEMsECBAgQGB3gQz+JPxLz2+JBnff93RbJlWt9CRATTpPd0ZHJkBgFgJGUGdRTCdJZKqBK1euNIee2lBedx5Fd81JUByUAAECBAgsSyBBYOn2vXz58nQy11uz966cTpqlhACBEQSMoI6APNFTZFhyoin72te6d5xevXp1sqmVMAIECBAgMFmByVb33bo+hlPrMZ9ssUoYgQULGEFdcOHOOGvvvfde7jstdWrqsNu3b884PydLenqaS2dz72MYTnZmByZAgAABAhcSyPOQUt3nNqNylNz7J0AtGhYOEEjTMTMEmx3z7JL8HXAQu5xdQIB69iKQgB6BxFp5TM67776b6Ctjp4lOl/dYv55s77wqt+g8fPgw9w+39ojbzZs3pxPMJ4UpxDqRSV732QP1BpYJECBAYD0CqRFSv+cpvokrVBAnKvcEbGWO99ZTpCGRpzpt3WxqG+SBmvkUpdVRxjaaFCZAff3119966y3NyKkV2eb0CFA3+3j3bAK5RKZj9Wynn+qJc/FNNVNGTVvJTCWUv8SEDx48CGDr3fFfdpNqqvb4peCMBAgQmLJA4of8TTmFc09bYrYF/05bmj1pbAxlMO2l3IOdbv1E3frHZ/RJdg/qjApLUtcukKec5xmMQ9Fp0ckGmSCdS3ZZc5aF1Adbk3qWhDkpAQIECBAgsACBxKV53udQdFoymBA9M8k9ILqATH/BCOr0y0gKCfxEIHfm1D+3ky7n8jzGp0+f1jN+cy1OjPrs2bNzzWlJAuqkKkICBAgQIECAwHEFMlks7Zw0OZrD5uX169eb5efPn7dm/CZGzYxfNzkftwhOdDQB6olgxzhshsia7+QX94BP+C7wDKM1I2m5iJxx3mlJxsFcZwfPVTV/6SnM3RTd+3KTvFx8y8BpPhuZ1pJB1zE+i51z5NRNoeedgJflzoZWECBAgMAWgTJA1DTHt2x9vrdLPTv36n4u4AcUddoP52oYHJDarbvkk3br1q10iKfLPpN4W43hrEm7qO6+z5ZpR209rA3OLiBAPXsR7JeAXP0zRSEPyClxSNk/X8tUXbnHr3nkQFnfLGQ8rbWmdDhlfY7W3aBsn+cVleVm46G77ZOA+t76XARzz3odnORS0r0NIGcfOmBz3tZh68TUy/Vx6mctRCyXpDoZsUoydrzppQGvL3DNSYeucS2uOoUXX07VkpQHpHuorMytp5nrUko2n5O96qFSXpHJiXrP0j1vd00SUJ6NFOqUhdHUrpI1BAgQ2CCQGi0X0kRKdeXVbJ+Lc/6a6r51hLoeLG/VR0il/Pjx4/JWvZBj1jV43uo9WrNLa+NSfZQD9lb3qU+TgLJNd6Guu7vvljV1wupdLlLdp+ZqkpeDlxNlYSjYbgnUu6xnOWhpvzUNpCZEDNfI2U9/fVoavfeXJjFNu6iUab5QSfP4iRzZZAmn+9zffAQSM2z9zOVb15uhrTtu2KB1wA0BWGK2ZuNMLs21u/eY2X33AzZHKIdt7dh6WScsVnn3k08+GUpGjpzLWesIrZcbctGbtWZl6yD1y7oEuw71lgcvt67Rux+nFa7ng/TkyZPdd6+3rLOZJ13VL7Ncb7nXcjHf8fOw18FtTIAAgYkIpOZqXZDL1a9eyDbdBNf1YL3xLsvdS+uGo5WNN1SU3Wqurg56k7RjHVEnrNnlgtV9Drhv0FIEuqWQNXVOuw69u5xuZZfrKOeKeSLDuhzT4srKoxz8iAdpPXHzsOKYVIEeEWeyh/KQpPqbNenlzFJoDUPlQpDrY/7qq+outdqp85neqTzLp/RX1adLUpPges3plpOMzc8KSl9p/oYSkPRnNLLORS7EX3B/FXxo93OtL3dfNAko85Q2pyfZbA0RR6/1edt8hPJudqyHT1sBc9nMAgECBAh0BZqaq3VBbqqe/Ftv37ra12+NtpzULqC6T0sgrYXkpbiV9lVZY6ErELd6cD4bpC2xoVnVPcI4a1oN4x3bReOkzVmGBEzxHZKZ1vrUVfV3PvMZMue+7rjKNSJfuUzpHKqx6r6fJm+5fbwcM4fKJJkd85yNW0drRTL1nZCpUMsviyR5dZrL6boHzFt18sqWey0kVU14mag4CW6GUqNUpzbLvRFUKqrkolRX2TcTn+rGQegyraVsMDTtdq8EH2Xjurdi9wO2GkPNjr0rtx6zxbJ1exsQIECAQBEoNVfWNJVXKqn6wp56LRVZJsq2mt3NEXrr08zpzS7NBnWl3Kwp/3Yr6O7R6go0O+5b3dfVaDlvnbyycq+FgnZAdR/P+iajqKZCLxSp5fNIhZLrHD/DcU1x1IWyV2oXs3Eadd28ZOV0foy9SZ6S6hbTDNZMdmxXwmqBJrhqPk/55tdvHbxcT/lInXHwcbJj+aDnOOWwuSJ051HsPvejHCcH3zF59S4lhA5d66StyR69E1nL7jl79wiNVX26VGa7ANaH7eLscoSt29SpSuIz+WrrLtmgdd9RU6ApwV32rbfJ6Zp9828ptTrXWa6332u5e+S9drcxAQIEJi6Q2qpc6LKQ2+eOkuBjXYSTmJK8XOFLdXPB6v6A5JVTJz1l925lvUt1n4yUTKUvoBe8nCJbDm3T2rHe5UTVfeuMG162uDZsuddbvV0kWbnXQcbZuBRxFvKpOOCkkyrQA9I/u11M8a0/tBNdTgdeMxLYpC9jpxNN6JfPa206Gpvqqr7uN2nO+nES3zwEoklG66SpXeqAv3ecsH6KQ4K31hGaLCR3OVSznBHsdLKOk7XNZ6k/KtmydANv3isZ6ebxgE9a6WbO6eqr+eaze5cAAQIEIlDGObOcq3dvADARqCRvAdV9M/usIU0l2NtXm3fzCKjkt9ks86da9WyzfoX/9jYSeleeF6dVXqUoz5sqZ98sIEDd7DOJd+f11Wrq13RQ1UHg+I5NMoZiy3oidH5BtJW8gKfSalYmF90wu2xfz4seei5i2XichToZuzdumoq5jlGT631n6QStTBrP7vkbJ8vOQoAAgWUI1NX99JvRC6ju6x7q3o7a8rmqq/u6H6FssMKF1PKtdkJeTrDqr8sr7ZwJpnCFH56tWXYP6laiyW2Qb9pkv13NtT7J2z00Op1vavcywtk6Sx08l/tIyzZ1E2Ezdf1uXc+VQ428kBCxTkYdh29NSaySnewekPgcUIK5GamcxfBpobBAgACBAwRSE+VqXPcbHnCQ0+2yjOq+7qEuz8voRUv9WKYITfA2y940j7AywwAJ3ZsPQ5oNdeNqhLPveIry4MZsf0DbZsez2Oy4AkZQj+t5kqPVUVBOkLv5y/jeSc53gYOmNs3eE5ngseEytLnKr3lffPHFC3iMvWv9pIfkcYNAb8oS0qf7M3OZ9t0xR0u/Sf6aw+YT2/rQ9p7OSgIECBCoBeorZ+rT+plz9WZTWF5edb+5YTC+earUF3b+2z15CbPLUfPs4vQsZ+pTU5q7H6TeMkFpmg352zc6zS4lJZsXks76jHst5/arulFXj4TvdRwbjywgQB0Z/MDT1QFDelXz8yf5Yl/kgnJgOnbY7YC4aIejHrLJXuOHh5zgq/ucvW5LF2bTi9mkK90EYyapdC3n7K3nUnzVySsCBAgQ6BdIgFpftxM5pLovt07073O+tar789kf58yJgfPpSox66dKlybYqL5LVhKZ14+SLvnM3H10EdMR9BagjYl/gVJkwWVdaCU3zlfvGN76R3x/LxWVSkWodS18gx0fY9eDLUH3nTz3/p5umejLwvn2H3aNdZE2uwvUM26ZH8yIH3GvfLwZPfzp8mqnCNeBex7ExAQIEVi7Qek5Pc21PdZ8rfN0FOQWlhVX3dYXe5a3fvXz5cneDWa9pWpWt336fdY6axKeRXFrIaUXrPZ9RmQpQ51FYiTfylPA6Rm3SneoqlVYTqZYI4bxZmsiF+yLhYr1vVMvVrQtbNxfqvbpbnnRNUlhfhXOuka/CdQ+lu09PWtYOToDAsgXSx9e9gOcin87oXOebSLWesnhGjQVU93UWen/Vs/DW756xui/p2Wshrcd02ecWnlTQ5a/biZ/PVSbTTuTTtVcGezdO87juVkjG9Z73Qk1zpQB1muXSk6pcEPOLnUNP/UmklMvKFK4sE7lwd4P5HtOBVclCuYqlWTD0+zG5iNd33p/xztvWVTiNmzFLIc2m0jli+HTgM2U1AQIEdhXIhTRd0t34Ifs3kWomZE7h9tQxK5oNdhep7utB4FRkpS5rnS5NrPJWmgf1Xq0tj/gyH4Ddf7ty83lTUvlEZXA+83jLX9bkd3cTttWA+YClRbH5aMd6NynZMYNJ6r4nTcstjZOyV75TrQcOl7csTFNAgDrNculPVS6LiT1yQclVpkRQ9aa5gJ59hsZEaqya5YDl+jb6DA92Y9R0y6U7IJfy5uC58PWWyAGn3neX1CX1QG6uwvnb9yAX2d7w6UX07EuAAIGuQIKTNMqfPXuWyqWOH8qWqZXqOqisH3NhAdV9Ku66IyBj1CUQLZKJc+qYrTUHu2w2x4V8tBIl5pNWf8YiUId2c8xX0l8/MzIf1CWV2hxL5IA0C1APQDvzLrmOpMZKvZUB1W7VlZDpvJVWfZk7s9QFTp9Ldl315krX9Fg3XY8RTkdAmQaTLdMHeYGzHb5rElZXJOnW7c4NO/zoO+yZsxeHfBrPFaXvkFKbECBAYGYCuaKmYZ1e6QcPHnR7HtNPmoDqjFlaRnWfSrNkpGlBpX5v6vrUsFlOdFo6o1MK4wyfjlmsacPkA1afsZ7PXK+fxXK67OsOhXyJWhH4LHIhkQLUGX8Gmj6hZkC1XF6Tn1xJ60GtGefwrEnPFa3uWE0Ylh7rwOav7mFNXXWua1+Cw3poN5+HkaPTlE80mlLKJ/BcUfpZPyZOToAAgZMLNJ2Pqe7TD1ifLJVRPYOmfsvyjgJNAFP3riby/7Kq/2LyVJbLcVLHjV/JlrOfdCGtnTQhyinm+6FKedXRaVomib3rFnLJo4WJCwhQJ15AOyUvNVZipHrTOoKq11veXSBXtHRdb7iu5YIe9nNd+1p9hKlaxo+T08dchk9H/lWb3cvRlgQIEFiGQFMrtSYrPn78eBm5O2MuUoFu7mDNwGmmraXKO2MiT33q+s6mnKuOzE996mMdPw2Segphvi9pF9WB97FO5DgjCHx9hHM4xQgC+QbmAlpme87xyjKC0l6nqK90ucyl37SoJjRNb2v+9jrgETfu9hEeJTpNv0Ye+5QR+PyEbD5OG4LzJi/1M6IyIyh/hWgos023dHk3D0goyxYIECBAYKtAuqRz7S2dg1uvulsPaIO6w7cJVhvVVIJ5mb+tteECDJPNOhdlVnO9snc5Lc/79++HqGk59G4zwsokuPVzBhk/aGVqhGQ4xbEEBKjHkjz/cV5++eWDE6GG69LVt500nXATufOkjpyT7NQKR4lOM5epPFSgiVRzk/PmWjnvljrMR6j7EbKGAAECpxBI92gJUPc9/uYf9973aAvYPrVYmRQa2KY+nUh1P33exIRlPnAW0k/dup11tCxk7LRuh2RQob5La7RkONGxBEzxPZbk+Y/z/PnzkohdOo3qbXKBPri2Kydd0kJAyjTp1r0Z581mElb3ETbRaV2UhyUvpV+i0+YI3TXdI59xDLmbGGsIECCwEoG6vt7l+l9vUzfiV8K1OZup61OxNttkmuvmbtnNh1rSu/VnZihfGTst0WmzTV6WqXxDe51ifboY6g92otPMAjvFiRxzNAEjqKNRX+hE+c4nTNpw3cw3s75MZKLF1vPlaHUvbKYMte5saY6QC/eG8249y0w3qK90dVPgvNlJWbT6CI81g6W3RsknavMDIXapwCIWwPw1dPnI5a9Z9i8BAgQItARyNd7cts4G5YqafXep7utrdfbNtb13hFB1X3f0t8pl8S9Lp3xymlbfLg2/zOztsmQQdfMHuLvLBdckOq3bMLmdeOQEXDD9du8VEKD2skxrZeqM5lHyqVFSFTU3QNZJzDczw1/ZrFmZy0rrQX/1xvVyDlW+1Znh+eKLL2bHclVKHZYLTa5ZeTZAvVdOVMdv9VtZrq9xzVs5S2ub+uXQ0epTZJvuYU8a6tRBVKrz+OeSV9fxdRZGW84NnDVLSqp1S2cvZiYsbS6CpL8U+l556e3R6B4hD5ZIOpv16Z9e9nMmutm3hgABAjsKpNpNazsVeqnu64tzrvCpqcvlNMfMtT1/Ww/eVJclrM0pcqjSiM9yzptgI5u1OiV765Ryum69vDkxSUBJQzlIFuqwMMvdw6byrR3qfS++XFf3aRHlbqnI1CsvfopZHCHtvZLO3v6L8m5ZOF2hlFNsXchHt7Rjm43z2LB05dc7dj9RadFpitREU1zOQ0r8TVygVWHkY5RL5xeV0pd/rU9Vrhe5dXDHHLUiz9ahysvWARPwlLd2WdicmH2PVs6Y60vryPWhYtN6t365y5Zb66emFFKTpYDy9P/6+EPLSXNJf9IwtNnQ+mSq7L77wi4n6v0kJGtDKdlrfZ3rbqntfqiS5c2Fu/sBbUmAAIFJCZSgsVzuEpt9WdV/5VdAmnfz1o5VT/LYbUiUU5SFtB9aGnVdWTbbsNDavfWyrgs2HKT7VrcWqxO2uUbYumVv9ddKQ1MK6cHPrKVWpoZe1pntpn9or3Otr5WS9x0T3Puhysoxc1E7t0ptw8sDmiL1iXb0GdNheedyD+qGD/BU3upOokgfZDqEmr86lQmZ8rXJlbReuWE52/deX1q7dBPQ2mCRLyOzuXewKYV03aU3+tKlS+nGm69DPgmt4dDumvnmTsoJECAwfYFmJLOVzsyaaer6evpMtklUlup+cyVVHyqhbzf6rTfIcm8CWtss7+UulV1TChm+znSqK1eutMpi7iZpzDTT9JqMNB0iu2Qqn6jWWGtebv2Y7XJk2xAQoM7gM5BIKcFDLhkb0pqgNNukI3D36LQ5Wi4l6RHMBbr34DlaOo3qfqPezRa5MnlvXXk3ZDP1eq7vrXkmG7af4FvpG05zJ1nOJy2fpa2P8J1gFiSJAAEC8xVItJmLcC7Fm+vxXKVTa+8VnTYmaUukNh+KaXPl///bO+Pb5kEgjioTVZ2gs3SCjtARo46SCdInoZ5OiUNoWgeDX/7o5w8DhoflH3fgMxnaVW9cztctp9d15rkI1ulFMIh8drhj3B+Y3MxhouUX3upIXzzgVuS24eaBIQf8dzGbiRL4LYEDi8K/LWP+jgR4lPAcyd47ngs8WG9JTntTqZlq4yFFtVit/NprmCknHLICMWPgBd2LDvKqDMT45XTsuorO5bcxmV4AOZed9Tj3munRwy9+HA6Hgghu0JsVl/2SgAQkUISepS1+hQYqj7j8XTVKzSh+rvZfZhGlwuH+IuLIfZn8APnj4+O6C3ybh2wxFmRgdlR342bh6y73mKAlgkkMNH3hHmB/XNwJpdcYmS6BXt8ApGxqQBdbOFmiQZIGG9AiTmv4OKm5VD4YkXWam63T+vOahztrp0XbaAvBkMm/TqOsVQISkIAEdkEAS2klRS41r1T5cGODnZatUyxJTLhbvWCLb3yPjYK81zOELVdcEhjYObzWYh/rs53FIiZKYCUCbvFdCazVDkyAnbqxLsqKX12BkPm8H+bCGTkwBZsuAQlIQAISmJoANlv4l9meWrFOwcBeqjwfIFrsEGxiPlNpLQvCGOe5d5XMnpLAEwhooD4BspcYjED2MiJId1ufF7TzFqC7Bc0gAQlIQAISkEAXAuh1RI7ANG1ZVc5fnR1F7ut+c0xTFk6JYNLS/S7D5EX3ScAtvvscd3t9kwCSE6rD85rdUDez/pxoyfOTd4//4pQN5UML94jAPktAAhKQwMYIZMstW56VZo4o9/jZkWA6ezqdYjX17e0NOSZdUa4Mt6c6EtBA7QjfS2+RQFin7Y3LRcISay8+fU70TwmcfpTtoAQkIIGxCGTtbmx5LoKN11iqbzbfOu7L36s/RkAD9TFulpqWQPaP4mvk7ZScstjt2CPE2UYvLDnDkZnrjAh7OXGHx9mxvcPu22UJSEACElibQBb3xhdK82fh89s99aYq93U+WzuLGyJ7Ikrz+HDD1to5d3s0UOceX3v3awLFRCxRE/hLyL56VF6s03hnFbVrjzEQwQBzE7sHo8+N6XhMWMWOV/fSEpCABCQwPYG84wmvKGpeV/D39/dwnlK2HlEp01PuM43tH+d53fZbO2sLDZI068jar8cJ5M+g8ZzKX5HJlWK+8l0sFCsSCeebPbKR7oEEJCABCUhAApsicBEYCTVH0xdbyHoaMwHmA+UsQp+j9y8WMVECEvgLAVdQ/0LPsnMSIKIA23higwffOuOHuzS/cMJ2oPCkFgp+QGzOu8FeSUACEpDApASwM19fX6Nz7IfiY+bI/cvLS0kksBBan/foYp3WP5catXkgAQk8TOBwPp8fLmxBCcxKoLhLsyZVekoEIESu/XWUSlWekoAEJCABCUjgaQSwP2/tk7puA7Yrct++ufe6BlMkIIEWAm7xbaFknt0RwObERfr5+VnfsltM0+PxqHW6u1vEDktAAhKQwPgEsDkR8frbp/SSbOyTcu10/AG3B2MQcAV1jHGylR0J4F7l9/X1VSIn0RLsUvb/IFe6UTuOi5eWgAQkIAEJ/BcBJB6tZ+dUjuiLyhe5R/f/60LWIwEJ3CWggXoXkRkkIAEJSEACEpCABCQgAQlI4BkE3OL7DMpeQwISkIAEJCABCUhAAhKQgATuEvgGbEMSDldLVCMAAAAASUVORK5CYII=)"
      ]
    },
    {
      "cell_type": "code",
      "execution_count": null,
      "metadata": {
        "id": "QjZf5KWGgrvi"
      },
      "outputs": [],
      "source": [
        "#start:step:stop \n",
        "#start:stop"
      ]
    },
    {
      "cell_type": "code",
      "execution_count": null,
      "metadata": {
        "colab": {
          "base_uri": "https://localhost:8080/",
          "height": 35
        },
        "id": "fTE_sGKlwxpx",
        "outputId": "0316646e-b675-4245-d687-67efb7c6ef68"
      },
      "outputs": [
        {
          "data": {
            "application/vnd.google.colaboratory.intrinsic+json": {
              "type": "string"
            },
            "text/plain": [
              "'H'"
            ]
          },
          "execution_count": 38,
          "metadata": {},
          "output_type": "execute_result"
        }
      ],
      "source": [
        "My_list[0:4]"
      ]
    },
    {
      "cell_type": "code",
      "execution_count": null,
      "metadata": {
        "colab": {
          "base_uri": "https://localhost:8080/"
        },
        "id": "TEY6uoJvvU53",
        "outputId": "aa4e737a-e020-482f-be8d-8a5ae986e021"
      },
      "outputs": [
        {
          "data": {
            "text/plain": [
              "['E', 'L', '!']"
            ]
          },
          "execution_count": 39,
          "metadata": {},
          "output_type": "execute_result"
        }
      ],
      "source": [
        "My_list[1::2]\n",
        "\n"
      ]
    },
    {
      "attachments": {},
      "cell_type": "markdown",
      "metadata": {
        "id": "8glXBeXvmsHE"
      },
      "source": [
        "\n",
        "\n",
        "**Add an element into the List**"
      ]
    },
    {
      "cell_type": "code",
      "execution_count": null,
      "metadata": {
        "colab": {
          "base_uri": "https://localhost:8080/"
        },
        "id": "NqkJpYStltHl",
        "outputId": "79211bed-e14e-4eed-ae2c-a088fa1319e6"
      },
      "outputs": [
        {
          "data": {
            "text/plain": [
              "[10.5, 8.7, 7.5, 9.0, 6.8, 5.6]"
            ]
          },
          "execution_count": 48,
          "metadata": {},
          "output_type": "execute_result"
        }
      ],
      "source": [
        "### ToDo ###\n",
        "### Append ###\n",
        "A = [10.5,8.7,7.5,9.0,6.8]\n",
        "A.append(5.6)\n",
        "A\n",
        "\n"
      ]
    },
    {
      "cell_type": "code",
      "execution_count": null,
      "metadata": {
        "colab": {
          "base_uri": "https://localhost:8080/"
        },
        "id": "d2dTRSh9jS3O",
        "outputId": "eae86191-4e8f-4779-c910-f13ed5497ce8"
      },
      "outputs": [
        {
          "data": {
            "text/plain": [
              "[10.5, 100.5, 8.7, 7.5, 9.0, 6.8, 5.6]"
            ]
          },
          "execution_count": 49,
          "metadata": {},
          "output_type": "execute_result"
        }
      ],
      "source": [
        "# Insert # \n",
        "A.insert(1,100.5)\n",
        "A"
      ]
    },
    {
      "cell_type": "code",
      "execution_count": null,
      "metadata": {
        "id": "YzNEQroDjy_Z"
      },
      "outputs": [],
      "source": []
    },
    {
      "cell_type": "code",
      "execution_count": null,
      "metadata": {
        "colab": {
          "base_uri": "https://localhost:8080/"
        },
        "id": "n6-QnBUbVIJ0",
        "outputId": "d88576d9-4c65-4fe5-b145-55643da88dbc"
      },
      "outputs": [
        {
          "data": {
            "text/plain": [
              "5"
            ]
          },
          "execution_count": 50,
          "metadata": {},
          "output_type": "execute_result"
        }
      ],
      "source": [
        "A.index(6.8)"
      ]
    },
    {
      "attachments": {},
      "cell_type": "markdown",
      "metadata": {
        "id": "G7UJfcWfnO0Q"
      },
      "source": [
        "\n",
        "\n",
        "**Remove the element **"
      ]
    },
    {
      "cell_type": "code",
      "execution_count": null,
      "metadata": {
        "colab": {
          "base_uri": "https://localhost:8080/"
        },
        "id": "gUU1yuuamAOk",
        "outputId": "66b1264d-c0a2-452c-ee84-c588c275c3be"
      },
      "outputs": [
        {
          "data": {
            "text/plain": [
              "[100.5, 8.7, 7.5, 9.0, 6.8, 5.6]"
            ]
          },
          "execution_count": 51,
          "metadata": {},
          "output_type": "execute_result"
        }
      ],
      "source": [
        "## ToDO ###\n",
        "A.remove(10.5)\n",
        "A"
      ]
    },
    {
      "cell_type": "code",
      "execution_count": null,
      "metadata": {
        "colab": {
          "base_uri": "https://localhost:8080/"
        },
        "id": "y6s4941-tv6F",
        "outputId": "75d48b52-90a6-41b9-b271-18d10de65606"
      },
      "outputs": [
        {
          "data": {
            "text/plain": [
              "[100.5, 8.7, 7.5, 6.8, 5.6]"
            ]
          },
          "execution_count": 52,
          "metadata": {},
          "output_type": "execute_result"
        }
      ],
      "source": [
        "x = A.pop(3)\n",
        "A"
      ]
    },
    {
      "cell_type": "code",
      "execution_count": null,
      "metadata": {
        "colab": {
          "base_uri": "https://localhost:8080/"
        },
        "id": "S0qNF2Pcoxaw",
        "outputId": "09962386-cd96-42cc-9119-1d841de60aa7"
      },
      "outputs": [
        {
          "data": {
            "text/plain": [
              "9.0"
            ]
          },
          "execution_count": 53,
          "metadata": {},
          "output_type": "execute_result"
        }
      ],
      "source": [
        "x"
      ]
    },
    {
      "cell_type": "code",
      "execution_count": null,
      "metadata": {
        "colab": {
          "base_uri": "https://localhost:8080/"
        },
        "id": "BsnACLWLlgl_",
        "outputId": "3ba3dd75-8f9e-4056-b556-1fdd9d301822"
      },
      "outputs": [
        {
          "data": {
            "text/plain": [
              "[100.5, 8.7, 7.5, 9.0, 6.8, 5.6]"
            ]
          },
          "execution_count": 54,
          "metadata": {},
          "output_type": "execute_result"
        }
      ],
      "source": [
        "A.insert(3,x)\n",
        "A"
      ]
    },
    {
      "cell_type": "code",
      "execution_count": null,
      "metadata": {
        "colab": {
          "base_uri": "https://localhost:8080/"
        },
        "id": "nSklalpcmD6l",
        "outputId": "3ccacf4c-83bc-46d3-c4c5-1d87cfc85f2d"
      },
      "outputs": [
        {
          "data": {
            "text/plain": [
              "[0.5, 8.7, 7.5, 9.0, 6.8, 5.6]"
            ]
          },
          "execution_count": 58,
          "metadata": {},
          "output_type": "execute_result"
        }
      ],
      "source": [
        "A[0] = 0.5\n",
        "A"
      ]
    },
    {
      "cell_type": "code",
      "execution_count": null,
      "metadata": {
        "colab": {
          "base_uri": "https://localhost:8080/"
        },
        "id": "zNMA6Uv_lyJ1",
        "outputId": "b5296e4d-b713-4d14-f6a1-70fded12338c"
      },
      "outputs": [
        {
          "data": {
            "text/plain": [
              "tuple"
            ]
          },
          "execution_count": 56,
          "metadata": {},
          "output_type": "execute_result"
        }
      ],
      "source": [
        "z = (1,2,4)\n",
        "type(z)\n"
      ]
    },
    {
      "cell_type": "code",
      "execution_count": null,
      "metadata": {
        "colab": {
          "base_uri": "https://localhost:8080/"
        },
        "id": "TRZPW26tl3Pl",
        "outputId": "783f14cb-9924-4bcc-cf95-16cf20bacd9e"
      },
      "outputs": [
        {
          "data": {
            "text/plain": [
              "1"
            ]
          },
          "execution_count": 57,
          "metadata": {},
          "output_type": "execute_result"
        }
      ],
      "source": [
        "z[0]"
      ]
    },
    {
      "cell_type": "code",
      "execution_count": null,
      "metadata": {
        "colab": {
          "base_uri": "https://localhost:8080/",
          "height": 166
        },
        "id": "wxTFJpB3l9K1",
        "outputId": "a18dc6e2-89f9-43fd-9bf1-8934f119ef6f"
      },
      "outputs": [
        {
          "ename": "TypeError",
          "evalue": "ignored",
          "output_type": "error",
          "traceback": [
            "\u001b[0;31m---------------------------------------------------------------------------\u001b[0m",
            "\u001b[0;31mTypeError\u001b[0m                                 Traceback (most recent call last)",
            "\u001b[0;32m<ipython-input-59-16201602382a>\u001b[0m in \u001b[0;36m<module>\u001b[0;34m()\u001b[0m\n\u001b[0;32m----> 1\u001b[0;31m \u001b[0mz\u001b[0m\u001b[0;34m[\u001b[0m\u001b[0;36m0\u001b[0m\u001b[0;34m]\u001b[0m \u001b[0;34m=\u001b[0m \u001b[0;36m20\u001b[0m\u001b[0;34m\u001b[0m\u001b[0;34m\u001b[0m\u001b[0m\n\u001b[0m",
            "\u001b[0;31mTypeError\u001b[0m: 'tuple' object does not support item assignment"
          ]
        }
      ],
      "source": [
        "z[0] = 20"
      ]
    },
    {
      "cell_type": "code",
      "execution_count": null,
      "metadata": {
        "colab": {
          "base_uri": "https://localhost:8080/"
        },
        "id": "P-EkwQ6LmYc5",
        "outputId": "a0d582f7-aa7a-4e85-cc7e-756c2c34dba3"
      },
      "outputs": [
        {
          "data": {
            "text/plain": [
              "(4, 10, 40)"
            ]
          },
          "execution_count": 61,
          "metadata": {},
          "output_type": "execute_result"
        }
      ],
      "source": [
        "z = (4,10,40)\n",
        "z"
      ]
    },
    {
      "cell_type": "code",
      "execution_count": null,
      "metadata": {
        "colab": {
          "base_uri": "https://localhost:8080/"
        },
        "id": "S3djxIJSmmgF",
        "outputId": "9390c6fd-bdbc-4ab7-9812-5e4af530052f"
      },
      "outputs": [
        {
          "data": {
            "text/plain": [
              "(1, 2, 3, 4, 5)"
            ]
          },
          "execution_count": 63,
          "metadata": {},
          "output_type": "execute_result"
        }
      ],
      "source": [
        "My_tuple"
      ]
    },
    {
      "cell_type": "code",
      "execution_count": null,
      "metadata": {
        "colab": {
          "base_uri": "https://localhost:8080/"
        },
        "id": "hsG-r1mXoRHi",
        "outputId": "1b81fb29-8b7c-46ea-ee94-fbf48d348708"
      },
      "outputs": [
        {
          "data": {
            "text/plain": [
              "(1, 2, 3, 4, 5, 1, 2, 3, 4, 5)"
            ]
          },
          "execution_count": 62,
          "metadata": {},
          "output_type": "execute_result"
        }
      ],
      "source": [
        "another_tuple = My_tuple*2\n",
        "another_tuple"
      ]
    },
    {
      "cell_type": "code",
      "execution_count": null,
      "metadata": {
        "id": "PlQuH7qAoRK4"
      },
      "outputs": [],
      "source": [
        "My_boolean = 2==3  ### >= <= != &(and) |(or)\n",
        "### alguns exemplos usando operadores lógicos \n",
        "\n",
        "# AND # \n",
        "# 0 & (and) 0 = 0\n",
        "# 0 & 1 = 0\n",
        "# 1 & 0 = 0\n",
        "# 1 & 1 = 1\n",
        "\n",
        "\n",
        "# OR # \n",
        "# 0 | (or) 0 = 0\n",
        "# 0 | 1 = 1\n",
        "# 1 | 0 = 1\n",
        "# 1 | 1 = 1\n",
        "\n",
        " "
      ]
    },
    {
      "cell_type": "code",
      "execution_count": null,
      "metadata": {
        "colab": {
          "base_uri": "https://localhost:8080/"
        },
        "id": "_s6NaU01ptrH",
        "outputId": "43ee0e75-d67e-4ddf-d137-4e5a61ae1f20"
      },
      "outputs": [
        {
          "data": {
            "text/plain": [
              "False"
            ]
          },
          "execution_count": 67,
          "metadata": {},
          "output_type": "execute_result"
        }
      ],
      "source": [
        "My_boolean"
      ]
    },
    {
      "cell_type": "code",
      "execution_count": null,
      "metadata": {
        "id": "aqEDQc_0puxN"
      },
      "outputs": [],
      "source": [
        "A_set = {1,2,3}\n",
        "B_set = {3,4,5}\n"
      ]
    },
    {
      "cell_type": "code",
      "execution_count": null,
      "metadata": {
        "id": "k0R0OxZjsSP6"
      },
      "outputs": [],
      "source": [
        "C_set = A_set.intersection(B_set)\n",
        "D_set = A_set.union(B_set)"
      ]
    },
    {
      "cell_type": "code",
      "execution_count": null,
      "metadata": {
        "colab": {
          "base_uri": "https://localhost:8080/"
        },
        "id": "Bif11arhsXzA",
        "outputId": "c9f25672-236f-40f3-c7b9-b36b3be31764"
      },
      "outputs": [
        {
          "name": "stdout",
          "output_type": "stream",
          "text": [
            "{3}\n",
            "{1, 2, 3, 4, 5}\n"
          ]
        }
      ],
      "source": [
        "print(C_set)\n",
        "print(D_set)"
      ]
    },
    {
      "cell_type": "code",
      "execution_count": null,
      "metadata": {
        "id": "bm06bzTiSj91"
      },
      "outputs": [],
      "source": []
    },
    {
      "cell_type": "code",
      "execution_count": null,
      "metadata": {
        "colab": {
          "base_uri": "https://localhost:8080/"
        },
        "id": "fxW5STafSjpg",
        "outputId": "4432a5f9-dd74-4185-b7c1-59a158bb1c03"
      },
      "outputs": [
        {
          "name": "stdout",
          "output_type": "stream",
          "text": [
            "[1, 2, 3, 4]\n",
            "['maca', 'laranja', 'banana', 'cereja', 6, 7, 8, 9]\n"
          ]
        }
      ],
      "source": [
        "frutas = [\"maca\", \"laranja\", \"banana\", \"cereja\"]\n",
        "print([1, 2] + [3, 4])\n",
        "print(frutas + [6, 7, 8, 9])"
      ]
    },
    {
      "attachments": {},
      "cell_type": "markdown",
      "metadata": {
        "id": "bpyCGbRf6fIz"
      },
      "source": [
        "**Dictionary**"
      ]
    },
    {
      "cell_type": "code",
      "execution_count": null,
      "metadata": {
        "id": "n8DJtyGJZfIS"
      },
      "outputs": [],
      "source": [
        "my_dict = {\"Local\":['Brasil', 'Argentina','Inglaterra'], \"PIB\":[4,7,9]}"
      ]
    },
    {
      "cell_type": "code",
      "execution_count": null,
      "metadata": {
        "id": "6N7HIDBXrWfT"
      },
      "outputs": [],
      "source": []
    },
    {
      "attachments": {},
      "cell_type": "markdown",
      "metadata": {
        "id": "Y5PvvAHrrXAK"
      },
      "source": [
        "# Lendo as chaves de um dicionário "
      ]
    },
    {
      "cell_type": "code",
      "execution_count": null,
      "metadata": {
        "colab": {
          "base_uri": "https://localhost:8080/"
        },
        "id": "B4BpTdMKrb77",
        "outputId": "aacafe17-ac58-4d60-823b-f7afe6254288"
      },
      "outputs": [
        {
          "data": {
            "text/plain": [
              "dict_keys(['Local', 'PIB'])"
            ]
          },
          "execution_count": 17,
          "metadata": {},
          "output_type": "execute_result"
        }
      ],
      "source": [
        "my_dict.keys()"
      ]
    },
    {
      "attachments": {},
      "cell_type": "markdown",
      "metadata": {
        "id": "L2OYOGgBobgh"
      },
      "source": [
        "# Acessando os valores pela chave"
      ]
    },
    {
      "cell_type": "code",
      "execution_count": null,
      "metadata": {
        "colab": {
          "base_uri": "https://localhost:8080/"
        },
        "id": "wQ02r3YxobJy",
        "outputId": "3c35f6a5-8d4d-4d55-9c71-8745a2ce13e5"
      },
      "outputs": [
        {
          "data": {
            "text/plain": [
              "[4, 2, 9]"
            ]
          },
          "execution_count": 19,
          "metadata": {},
          "output_type": "execute_result"
        }
      ],
      "source": [
        "my_dict.get(\"PIB\")"
      ]
    },
    {
      "cell_type": "code",
      "execution_count": null,
      "metadata": {
        "colab": {
          "base_uri": "https://localhost:8080/"
        },
        "id": "6jyVkmyAogdV",
        "outputId": "0700ef7a-2c8e-4938-937a-91181fe11e38"
      },
      "outputs": [
        {
          "data": {
            "text/plain": [
              "[4, 2, 9]"
            ]
          },
          "execution_count": 20,
          "metadata": {},
          "output_type": "execute_result"
        }
      ],
      "source": [
        "my_dict[\"PIB\"]"
      ]
    },
    {
      "attachments": {},
      "cell_type": "markdown",
      "metadata": {
        "id": "OLfrj9fJog6k"
      },
      "source": [
        "# Adicionado novos pares (Chave-Valor)"
      ]
    },
    {
      "cell_type": "code",
      "execution_count": null,
      "metadata": {
        "colab": {
          "base_uri": "https://localhost:8080/"
        },
        "id": "Ei3sidwAon5z",
        "outputId": "a8fca7ce-6c07-4de8-9f86-5d3516f75ac1"
      },
      "outputs": [
        {
          "data": {
            "text/plain": [
              "{'Local': ['Brasil', 'Argentina', 'Inglaterra'],\n",
              " 'PIB': [4, 2, 9],\n",
              " 'Populacao': [210, 40, 60]}"
            ]
          },
          "execution_count": 23,
          "metadata": {},
          "output_type": "execute_result"
        }
      ],
      "source": [
        "my_dict[\"Populacao\"] =[210,40,60]\n",
        "my_dict"
      ]
    },
    {
      "cell_type": "code",
      "execution_count": null,
      "metadata": {
        "id": "dlrkV3H7qtm0"
      },
      "outputs": [],
      "source": []
    },
    {
      "attachments": {},
      "cell_type": "markdown",
      "metadata": {
        "id": "s_boAvo-quRx"
      },
      "source": [
        "# Lendo todos os valores "
      ]
    },
    {
      "cell_type": "code",
      "execution_count": null,
      "metadata": {
        "colab": {
          "base_uri": "https://localhost:8080/"
        },
        "id": "metuZCo3q3jV",
        "outputId": "fcd967f7-3f2a-4462-f6dc-2fa536be528c"
      },
      "outputs": [
        {
          "data": {
            "text/plain": [
              "dict_values([['Brasil', 'Argentina', 'Inglaterra'], [4, 7, 9]])"
            ]
          },
          "execution_count": 30,
          "metadata": {},
          "output_type": "execute_result"
        }
      ],
      "source": [
        "my_dict.values()"
      ]
    },
    {
      "cell_type": "code",
      "execution_count": null,
      "metadata": {
        "id": "Kn0k7YAHr3BG"
      },
      "outputs": [],
      "source": []
    },
    {
      "attachments": {},
      "cell_type": "markdown",
      "metadata": {
        "id": "ldm8gyf-sB8A"
      },
      "source": [
        "# Statements in Python "
      ]
    },
    {
      "attachments": {},
      "cell_type": "markdown",
      "metadata": {
        "id": "gYmbs4Jz0JzA"
      },
      "source": [
        "Python Conditions\n",
        "\n",
        "Equals: a == b \n",
        "\n",
        "Not Equals: a != b\n",
        "\n",
        "Less than: a < b\n",
        "\n",
        "Less than or equal to: a <= b\n",
        "\n",
        "Greater than: a > b\n",
        "\n",
        "Greater than or equal to: a >= b"
      ]
    },
    {
      "attachments": {},
      "cell_type": "markdown",
      "metadata": {
        "id": "E3QXcsKRruZq"
      },
      "source": [
        "if statement_1: \n",
        "\n",
        "     expression_1\n",
        "\n",
        "elif statement_2:\n",
        "\n",
        "     expression_2\n",
        "\n",
        "else:\n",
        "  \n",
        "     expression_3\n"
      ]
    },
    {
      "attachments": {},
      "cell_type": "markdown",
      "metadata": {
        "id": "1h6ONrjlr3m_"
      },
      "source": []
    },
    {
      "cell_type": "code",
      "execution_count": null,
      "metadata": {
        "colab": {
          "base_uri": "https://localhost:8080/",
          "height": 35
        },
        "id": "GMCRftdZsJ_Z",
        "outputId": "e7d47339-c18f-4360-d784-3b67f472ed61"
      },
      "outputs": [
        {
          "data": {
            "application/vnd.google.colaboratory.intrinsic+json": {
              "type": "string"
            },
            "text/plain": [
              "'Brasil'"
            ]
          },
          "execution_count": 25,
          "metadata": {},
          "output_type": "execute_result"
        }
      ],
      "source": [
        "my_dict[\"Local\"][0]"
      ]
    },
    {
      "cell_type": "code",
      "execution_count": null,
      "metadata": {
        "colab": {
          "base_uri": "https://localhost:8080/"
        },
        "id": "c3cukLkjtFWy",
        "outputId": "d371151b-21c4-4d83-f7bc-6666d7cd78ad"
      },
      "outputs": [
        {
          "name": "stdout",
          "output_type": "stream",
          "text": [
            "Brasil é menor que Argentina\n"
          ]
        }
      ],
      "source": [
        "if my_dict['PIB'][0] > my_dict['PIB'][1]: \n",
        "  print(\"Brasil é maior que Argentina\")\n",
        "else:\n",
        "  print(\"Brasil é menor que Argentina\") "
      ]
    },
    {
      "cell_type": "code",
      "execution_count": null,
      "metadata": {
        "id": "kgtxHDYDtFAv"
      },
      "outputs": [],
      "source": []
    },
    {
      "cell_type": "code",
      "execution_count": null,
      "metadata": {
        "colab": {
          "base_uri": "https://localhost:8080/"
        },
        "id": "6fGQAn64rUWx",
        "outputId": "95b901c9-306a-4e69-dbc4-2343c67c456c"
      },
      "outputs": [
        {
          "name": "stdout",
          "output_type": "stream",
          "text": [
            "a is greater than b\n"
          ]
        }
      ],
      "source": [
        "## Complete the sentences below ##\n",
        "\n",
        "a = 40\n",
        "b = 30\n",
        "if b > a:\n",
        "  print('\"b is greater than a\"')\n",
        "elif a==b:\n",
        "  print(\"a and b are equal\")\n",
        "else:\n",
        "  print(\"a is greater than b\") \n"
      ]
    },
    {
      "cell_type": "code",
      "execution_count": null,
      "metadata": {
        "colab": {
          "base_uri": "https://localhost:8080/"
        },
        "id": "1CnLNxRi1iAa",
        "outputId": "102f99ba-d08f-4468-df46-b7e949bdcc02"
      },
      "outputs": [
        {
          "name": "stdout",
          "output_type": "stream",
          "text": [
            "If is true\n"
          ]
        }
      ],
      "source": [
        "a = 200\n",
        "b = 201\n",
        "if b > a and 3*b > a :\n",
        "  print(\"If is true\")\n",
        "else:\n",
        "  print(\"Else is false\")"
      ]
    },
    {
      "attachments": {},
      "cell_type": "markdown",
      "metadata": {
        "id": "egk2ck6isdY2"
      },
      "source": [
        "# Loops in Python "
      ]
    },
    {
      "cell_type": "code",
      "execution_count": null,
      "metadata": {
        "id": "TG7bZLfvzg8P"
      },
      "outputs": [],
      "source": []
    },
    {
      "attachments": {},
      "cell_type": "markdown",
      "metadata": {
        "id": "PvIYDaECY9ID"
      },
      "source": [
        "# Pertinência"
      ]
    },
    {
      "cell_type": "code",
      "execution_count": null,
      "metadata": {
        "id": "oQtKTGmC1su6"
      },
      "outputs": [],
      "source": [
        "texto = 'Brasil é maior que Argentina'\n",
        "if 'Japao' in texto: \n",
        "  print('Japao')"
      ]
    },
    {
      "cell_type": "code",
      "execution_count": null,
      "metadata": {
        "colab": {
          "base_uri": "https://localhost:8080/"
        },
        "id": "A7vtzGfr2mDq",
        "outputId": "8466700e-3661-4222-f0a0-48dedd0f9afa"
      },
      "outputs": [
        {
          "data": {
            "text/plain": [
              "True"
            ]
          },
          "execution_count": 44,
          "metadata": {},
          "output_type": "execute_result"
        }
      ],
      "source": [
        "lista_frutas = ['banana', 'laranja', 'abacaxi','uva']\n",
        "x = 'banana' in lista_frutas\n",
        "x"
      ]
    },
    {
      "attachments": {},
      "cell_type": "markdown",
      "metadata": {
        "id": "zH3-ObUPsw2s"
      },
      "source": [
        "# While"
      ]
    },
    {
      "cell_type": "code",
      "execution_count": null,
      "metadata": {
        "id": "1f_u3cuQsy2_"
      },
      "outputs": [],
      "source": [
        "a = 10\n",
        "while a > 1: \n",
        "  #a = a - 1\n",
        "  a-=1\n",
        "  print(a)"
      ]
    },
    {
      "cell_type": "code",
      "execution_count": null,
      "metadata": {
        "id": "Ax-LFNkss3ET"
      },
      "outputs": [],
      "source": []
    },
    {
      "attachments": {},
      "cell_type": "markdown",
      "metadata": {
        "id": "lXfvs-KUtImU"
      },
      "source": [
        "## FOR "
      ]
    },
    {
      "cell_type": "code",
      "execution_count": null,
      "metadata": {
        "colab": {
          "base_uri": "https://localhost:8080/"
        },
        "id": "RUkIJyiaUWDs",
        "outputId": "bdb21723-657b-4a45-b930-fdf7abfe4a02"
      },
      "outputs": [
        {
          "name": "stdout",
          "output_type": "stream",
          "text": [
            "Ola  Joe   Por favor venha a minha festa no sabado!\n",
            "Ola  Amy   Por favor venha a minha festa no sabado!\n",
            "Ola  Brad   Por favor venha a minha festa no sabado!\n",
            "Ola  Angelina   Por favor venha a minha festa no sabado!\n",
            "Ola  Zuki   Por favor venha a minha festa no sabado!\n",
            "Ola  Thandi   Por favor venha a minha festa no sabado!\n",
            "Ola  Paris   Por favor venha a minha festa no sabado!\n"
          ]
        }
      ],
      "source": [
        "lista_amigos = [\"Joe\", \"Amy\", \"Brad\", \"Angelina\", \"Zuki\", \"Thandi\", \"Paris\"]\n",
        "for amigo in lista_amigos:\n",
        "    print(\"Ola \", amigo, \"  Por favor venha a minha festa no sabado!\")"
      ]
    },
    {
      "cell_type": "code",
      "execution_count": null,
      "metadata": {
        "colab": {
          "base_uri": "https://localhost:8080/"
        },
        "id": "afC6B9fm7kFM",
        "outputId": "8a61ba6d-94a3-438d-feb1-99493f401c5f"
      },
      "outputs": [
        {
          "name": "stdout",
          "output_type": "stream",
          "text": [
            "range(0, 100)\n"
          ]
        }
      ],
      "source": [
        "print(range(0,100))"
      ]
    },
    {
      "cell_type": "code",
      "execution_count": null,
      "metadata": {
        "colab": {
          "base_uri": "https://localhost:8080/"
        },
        "id": "jTBJaPU972WM",
        "outputId": "3ff3b605-7c46-4b68-e3a8-bcb92fe92eb0"
      },
      "outputs": [
        {
          "name": "stdout",
          "output_type": "stream",
          "text": [
            "[0, 1, 2, 3, 4, 5, 6, 7, 8, 9]\n"
          ]
        }
      ],
      "source": [
        "print(list(range(10)))"
      ]
    },
    {
      "cell_type": "code",
      "execution_count": null,
      "metadata": {
        "colab": {
          "base_uri": "https://localhost:8080/"
        },
        "id": "CbilWLYO87ss",
        "outputId": "4340ce98-05d8-4dea-9cd7-f68d1aa6e832"
      },
      "outputs": [
        {
          "data": {
            "text/plain": [
              "7"
            ]
          },
          "execution_count": 59,
          "metadata": {},
          "output_type": "execute_result"
        }
      ],
      "source": [
        "len(lista_amigos)"
      ]
    },
    {
      "cell_type": "code",
      "execution_count": null,
      "metadata": {
        "colab": {
          "base_uri": "https://localhost:8080/"
        },
        "id": "DfWO62uz6H5U",
        "outputId": "73645d2b-a412-4f77-bb61-a6d61085853d"
      },
      "outputs": [
        {
          "name": "stdout",
          "output_type": "stream",
          "text": [
            "Ola  Joe   Por favor venha a minha festa no sabado!\n",
            "Ola  Amy   Por favor venha a minha festa no sabado!\n",
            "Ola  Brad   Por favor venha a minha festa no sabado!\n"
          ]
        }
      ],
      "source": [
        "for j in range(len(lista_amigos)):\n",
        "  print(\"Ola \", lista_amigos[j], \"  Por favor venha a minha festa no sabado!\")"
      ]
    },
    {
      "cell_type": "code",
      "execution_count": null,
      "metadata": {
        "id": "pBPt3e1MtKf9"
      },
      "outputs": [],
      "source": [
        "## for + range "
      ]
    },
    {
      "cell_type": "code",
      "execution_count": null,
      "metadata": {
        "id": "DaQKNZi0tOCW"
      },
      "outputs": [],
      "source": []
    },
    {
      "cell_type": "code",
      "execution_count": null,
      "metadata": {
        "id": "wOCLih_5tN_P"
      },
      "outputs": [],
      "source": [
        "## for in "
      ]
    },
    {
      "cell_type": "code",
      "execution_count": null,
      "metadata": {
        "id": "u00rbwmztVeB"
      },
      "outputs": [],
      "source": []
    },
    {
      "cell_type": "code",
      "execution_count": null,
      "metadata": {
        "id": "AN2KD1oLtVaa"
      },
      "outputs": [],
      "source": []
    },
    {
      "cell_type": "code",
      "execution_count": null,
      "metadata": {
        "colab": {
          "base_uri": "https://localhost:8080/"
        },
        "id": "u3vZpDY1tVXf",
        "outputId": "d74097a9-4517-4bbd-8f7d-a08b16a802ef"
      },
      "outputs": [
        {
          "name": "stdout",
          "output_type": "stream",
          "text": [
            "b\n",
            "o\n",
            "o\n",
            "t\n",
            "c\n",
            "a\n",
            "m\n",
            "p\n"
          ]
        }
      ],
      "source": [
        "for x in \"bootcamp\":\n",
        "  print(x)"
      ]
    },
    {
      "cell_type": "code",
      "execution_count": null,
      "metadata": {
        "id": "4remB7NYtZpe"
      },
      "outputs": [],
      "source": []
    },
    {
      "cell_type": "code",
      "execution_count": null,
      "metadata": {
        "id": "wwWx6F4qtZdl"
      },
      "outputs": [],
      "source": []
    },
    {
      "cell_type": "code",
      "execution_count": null,
      "metadata": {
        "id": "hHJwTTG3tZam"
      },
      "outputs": [],
      "source": []
    },
    {
      "cell_type": "code",
      "execution_count": null,
      "metadata": {
        "colab": {
          "base_uri": "https://localhost:8080/"
        },
        "id": "gkarZGEp33kc",
        "outputId": "b05b3e5c-4dda-4d00-e5a4-bd200c8321ed"
      },
      "outputs": [
        {
          "name": "stdout",
          "output_type": "stream",
          "text": [
            "red apple\n",
            "red banana\n",
            "red cherry\n",
            "big apple\n",
            "big banana\n",
            "big cherry\n",
            "tasty apple\n",
            "tasty banana\n",
            "tasty cherry\n"
          ]
        }
      ],
      "source": [
        "adj = [\"red\", \"big\", \"tasty\"]\n",
        "fruits = [\"apple\", \"banana\", \"cherry\"]\n",
        "\n",
        "for x in adj:\n",
        "  for y in fruits:\n",
        "    print(x, y)"
      ]
    },
    {
      "cell_type": "code",
      "execution_count": null,
      "metadata": {
        "id": "_H64P_PtS7Uh"
      },
      "outputs": [],
      "source": []
    },
    {
      "cell_type": "code",
      "execution_count": null,
      "metadata": {
        "id": "LTCE6tj4THU1"
      },
      "outputs": [],
      "source": []
    },
    {
      "attachments": {},
      "cell_type": "markdown",
      "metadata": {
        "id": "iP3mnqpPUFcL"
      },
      "source": [
        "# FUNÇÕES "
      ]
    },
    {
      "attachments": {},
      "cell_type": "markdown",
      "metadata": {
        "id": "FeRtJtUBuPI3"
      },
      "source": [
        "Variáveis e parâmetros locais "
      ]
    },
    {
      "cell_type": "code",
      "execution_count": null,
      "metadata": {
        "id": "V_nUxPoHi-9t"
      },
      "outputs": [],
      "source": [
        "def my_func(var1):\n",
        "     var1 = var1 + 2\n",
        "     return var1"
      ]
    },
    {
      "cell_type": "code",
      "execution_count": null,
      "metadata": {
        "id": "A3YznOxqjNW-"
      },
      "outputs": [],
      "source": [
        "x = 4"
      ]
    },
    {
      "cell_type": "code",
      "execution_count": null,
      "metadata": {
        "colab": {
          "base_uri": "https://localhost:8080/"
        },
        "id": "8kFzDusEjUet",
        "outputId": "b0633782-8bf0-4404-cd54-20991de30b12"
      },
      "outputs": [
        {
          "name": "stdout",
          "output_type": "stream",
          "text": [
            "6\n"
          ]
        }
      ],
      "source": [
        "z = my_func(x)\n",
        "print(z)"
      ]
    },
    {
      "cell_type": "code",
      "execution_count": null,
      "metadata": {
        "id": "7povBhWnUIE3"
      },
      "outputs": [],
      "source": [
        "def my_sum(a,b):\n",
        "  y = a+b\n",
        "  return y\n"
      ]
    },
    {
      "cell_type": "code",
      "execution_count": null,
      "metadata": {
        "colab": {
          "base_uri": "https://localhost:8080/"
        },
        "id": "uSN0kMcBWq3Y",
        "outputId": "41d299bc-f533-45b5-9b47-8cca10831eed"
      },
      "outputs": [
        {
          "name": "stdout",
          "output_type": "stream",
          "text": [
            "7\n"
          ]
        }
      ],
      "source": [
        "z = my_sum(3,4)\n",
        "print(z)"
      ]
    },
    {
      "cell_type": "code",
      "execution_count": null,
      "metadata": {
        "id": "1-5nmSqRXG5P"
      },
      "outputs": [],
      "source": [
        "def my_square(a):\n",
        "  y=a**2 \n",
        "  return y"
      ]
    },
    {
      "cell_type": "code",
      "execution_count": null,
      "metadata": {
        "colab": {
          "base_uri": "https://localhost:8080/"
        },
        "id": "i-3K2EkqXGsZ",
        "outputId": "541aa9ee-090e-4075-e8d0-9f69cbd1e2d3"
      },
      "outputs": [
        {
          "name": "stdout",
          "output_type": "stream",
          "text": [
            "100\n"
          ]
        }
      ],
      "source": [
        "w = my_square(10)\n",
        "print(w)"
      ]
    },
    {
      "cell_type": "code",
      "execution_count": null,
      "metadata": {
        "colab": {
          "base_uri": "https://localhost:8080/"
        },
        "id": "nqxoa8bTXGfy",
        "outputId": "fb72f205-43c5-4e86-a2fa-8a6caded5795"
      },
      "outputs": [
        {
          "name": "stdout",
          "output_type": "stream",
          "text": [
            "100\n"
          ]
        }
      ],
      "source": [
        "q = 10\n",
        "w = my_square(q)\n",
        "print(w)"
      ]
    },
    {
      "cell_type": "code",
      "execution_count": null,
      "metadata": {
        "id": "c6DGRbCnYe8J"
      },
      "outputs": [],
      "source": [
        "def my_func1(q):\n",
        "  q = q + 1\n",
        "  print(q)"
      ]
    },
    {
      "cell_type": "code",
      "execution_count": null,
      "metadata": {
        "colab": {
          "base_uri": "https://localhost:8080/"
        },
        "id": "GH9XRyU9Ypk5",
        "outputId": "a7676fe8-6aeb-49fd-f00a-a7bf13f9ce6f"
      },
      "outputs": [
        {
          "name": "stdout",
          "output_type": "stream",
          "text": [
            "11\n"
          ]
        }
      ],
      "source": [
        "my_func1(10)"
      ]
    },
    {
      "attachments": {},
      "cell_type": "markdown",
      "metadata": {
        "id": "9T5klCWIulls"
      },
      "source": [
        "Padrão de acumulação"
      ]
    },
    {
      "cell_type": "code",
      "execution_count": null,
      "metadata": {
        "colab": {
          "base_uri": "https://localhost:8080/"
        },
        "id": "La2R9DQ2kGhf",
        "outputId": "4f85522a-922d-4160-9b64-086588c61e7e"
      },
      "outputs": [
        {
          "data": {
            "text/plain": [
              "100"
            ]
          },
          "execution_count": 40,
          "metadata": {},
          "output_type": "execute_result"
        }
      ],
      "source": [
        "10**2"
      ]
    },
    {
      "cell_type": "code",
      "execution_count": null,
      "metadata": {
        "id": "WWviKPR7upuO"
      },
      "outputs": [],
      "source": [
        "def my_square(a):\n",
        "  sum = 0\n",
        "  for i in range(a):\n",
        "    sum = sum + a\n",
        "  return sum  "
      ]
    },
    {
      "cell_type": "code",
      "execution_count": null,
      "metadata": {
        "colab": {
          "base_uri": "https://localhost:8080/"
        },
        "id": "MEeOahaXbNfH",
        "outputId": "b3177555-b6b1-44a6-ed53-38f484b4eec4"
      },
      "outputs": [
        {
          "data": {
            "text/plain": [
              "100"
            ]
          },
          "execution_count": 39,
          "metadata": {},
          "output_type": "execute_result"
        }
      ],
      "source": [
        "my_square(10)"
      ]
    },
    {
      "cell_type": "code",
      "execution_count": null,
      "metadata": {
        "id": "20CxTeslcO7X"
      },
      "outputs": [],
      "source": [
        "def soma_lista(lista_inteiros):\n",
        "  sum = 0 \n",
        "  for valor in lista_inteiros:\n",
        "    sum = sum +valor\n",
        "  return sum  "
      ]
    },
    {
      "cell_type": "code",
      "execution_count": null,
      "metadata": {
        "id": "8AXEUqoddE4-"
      },
      "outputs": [],
      "source": [
        "def soma_lista1(lista_inteiros):\n",
        "  sum = 0 \n",
        "  for j in range(len(lista_inteiros)):\n",
        "    sum = sum + lista_inteiros[j]\n",
        "  return sum "
      ]
    },
    {
      "cell_type": "code",
      "execution_count": null,
      "metadata": {
        "colab": {
          "base_uri": "https://localhost:8080/"
        },
        "id": "AgX3u9zEbhkN",
        "outputId": "4ba7c8bc-1600-4039-ab33-fe316634924e"
      },
      "outputs": [
        {
          "name": "stdout",
          "output_type": "stream",
          "text": [
            "-49\n"
          ]
        }
      ],
      "source": [
        "my_list = [10,1,-10,-30,-20]\n",
        "print(soma_lista1(my_list))\n"
      ]
    },
    {
      "attachments": {},
      "cell_type": "markdown",
      "metadata": {
        "id": "2QEBSJemuqQ2"
      },
      "source": [
        "Função chamando Função "
      ]
    },
    {
      "cell_type": "code",
      "execution_count": null,
      "metadata": {
        "id": "QiMAMp3ivZHX"
      },
      "outputs": [],
      "source": [
        "def my_square(a):\n",
        "  sum = 0\n",
        "  for i in range(a):\n",
        "    sum = sum + a\n",
        "  return sum  "
      ]
    },
    {
      "cell_type": "code",
      "execution_count": null,
      "metadata": {
        "id": "2xcHNr_JvZDw"
      },
      "outputs": [],
      "source": [
        "def sum_of_squares(a,b,c):\n",
        "  x = my_square(a)\n",
        "  y = my_square(b)\n",
        "  z = my_square(c)\n",
        "  return (x+y+z)"
      ]
    },
    {
      "cell_type": "code",
      "execution_count": null,
      "metadata": {
        "colab": {
          "base_uri": "https://localhost:8080/"
        },
        "id": "3U2B-Zl_vZBk",
        "outputId": "88d64985-a2e9-4d38-cfd3-b32dfeb73617"
      },
      "outputs": [
        {
          "data": {
            "text/plain": [
              "50"
            ]
          },
          "execution_count": 31,
          "metadata": {},
          "output_type": "execute_result"
        }
      ],
      "source": [
        "sum_of_squares(3,4,5)"
      ]
    },
    {
      "cell_type": "code",
      "execution_count": null,
      "metadata": {
        "id": "_uISWawIvY7R"
      },
      "outputs": [],
      "source": []
    },
    {
      "cell_type": "code",
      "execution_count": null,
      "metadata": {
        "colab": {
          "base_uri": "https://localhost:8080/"
        },
        "id": "ptqslxKPvY4p",
        "outputId": "92c66cb8-fc74-48f6-e2d9-d75bb2fd27eb"
      },
      "outputs": [
        {
          "name": "stdout",
          "output_type": "stream",
          "text": [
            "25\n"
          ]
        }
      ],
      "source": [
        "def pot(b, p):\n",
        "  y = b ** p\n",
        "  return y\n",
        "\n",
        "def quadrado(x):\n",
        "  a = pot(x, 2)\n",
        "  return a\n",
        "\n",
        "n = 5\n",
        "resultado = quadrado(n)\n",
        "print(resultado)"
      ]
    },
    {
      "cell_type": "code",
      "execution_count": null,
      "metadata": {
        "id": "DNYm2HkylVKB"
      },
      "outputs": [],
      "source": [
        "def cube(x):\n",
        "  c = pot(x,3)\n",
        "  return c"
      ]
    },
    {
      "cell_type": "code",
      "execution_count": null,
      "metadata": {
        "colab": {
          "base_uri": "https://localhost:8080/"
        },
        "id": "D25oqTgxle0T",
        "outputId": "46c96a94-4215-4eab-8355-031e1599bd8b"
      },
      "outputs": [
        {
          "data": {
            "text/plain": [
              "8"
            ]
          },
          "execution_count": 48,
          "metadata": {},
          "output_type": "execute_result"
        }
      ],
      "source": [
        "cube(2)"
      ]
    },
    {
      "attachments": {},
      "cell_type": "markdown",
      "metadata": {
        "id": "hESjq2VVv2xM"
      },
      "source": [
        "# *args - varying number of positional arguments"
      ]
    },
    {
      "cell_type": "code",
      "execution_count": null,
      "metadata": {
        "colab": {
          "base_uri": "https://localhost:8080/"
        },
        "id": "u4tQODbHwnKF",
        "outputId": "8545e1bf-9523-4264-d1c3-748a32218dfb"
      },
      "outputs": [
        {
          "data": {
            "text/plain": [
              "[1, 2, 3]"
            ]
          },
          "execution_count": 50,
          "metadata": {},
          "output_type": "execute_result"
        }
      ],
      "source": [
        "A = [1,2,3]\n",
        "A"
      ]
    },
    {
      "cell_type": "code",
      "execution_count": null,
      "metadata": {
        "colab": {
          "base_uri": "https://localhost:8080/"
        },
        "id": "Ku9Jj4xxwnGr",
        "outputId": "91aa160f-14d4-48c5-d094-679d12ac4fe6"
      },
      "outputs": [
        {
          "name": "stdout",
          "output_type": "stream",
          "text": [
            "1 2 3\n"
          ]
        }
      ],
      "source": [
        "print(*A)"
      ]
    },
    {
      "cell_type": "code",
      "execution_count": null,
      "metadata": {
        "id": "4DdsAkaUwo70"
      },
      "outputs": [],
      "source": []
    },
    {
      "attachments": {},
      "cell_type": "markdown",
      "metadata": {
        "id": "YOODgeTcxEjC"
      },
      "source": [
        "# **unpacking operator** (*)\n",
        "# Tuples"
      ]
    },
    {
      "cell_type": "code",
      "execution_count": null,
      "metadata": {
        "colab": {
          "base_uri": "https://localhost:8080/"
        },
        "id": "FZJLTUUExThn",
        "outputId": "7f821c98-50f3-4a03-f25d-b5b180fc254c"
      },
      "outputs": [
        {
          "name": "stdout",
          "output_type": "stream",
          "text": [
            "1 2 3 4\n"
          ]
        }
      ],
      "source": [
        "list_numeros = [1,2,3,4] \n",
        "print(*list_numeros)"
      ]
    },
    {
      "cell_type": "code",
      "execution_count": null,
      "metadata": {
        "id": "__n0CnZRmoLB"
      },
      "outputs": [],
      "source": [
        "def soma_dez_valores(a,b,c,d,e,f,g,h,i,j):\n",
        "  return a+b+c+d+e+f+g+h+i+j"
      ]
    },
    {
      "cell_type": "code",
      "execution_count": null,
      "metadata": {
        "id": "Yh_sXbxVwnDp"
      },
      "outputs": [],
      "source": [
        "def my_sum(*args):\n",
        "    result = 0\n",
        "    # Iterating over the Python args tuple\n",
        "    for x in args:\n",
        "        result += x\n",
        "    return result"
      ]
    },
    {
      "cell_type": "code",
      "execution_count": null,
      "metadata": {
        "colab": {
          "base_uri": "https://localhost:8080/"
        },
        "id": "eF3JsLtpFkFk",
        "outputId": "d4df2442-cb04-405a-ff13-8c762a16f4e4"
      },
      "outputs": [
        {
          "data": {
            "text/plain": [
              "21"
            ]
          },
          "execution_count": 54,
          "metadata": {},
          "output_type": "execute_result"
        }
      ],
      "source": [
        "my_sum(0,1,100,-100,20)"
      ]
    },
    {
      "cell_type": "code",
      "execution_count": null,
      "metadata": {
        "colab": {
          "base_uri": "https://localhost:8080/"
        },
        "id": "NWVX2nKSnqWL",
        "outputId": "0745252c-2ab6-4093-a7a9-d93e18b1fa9d"
      },
      "outputs": [
        {
          "data": {
            "text/plain": [
              "9"
            ]
          },
          "execution_count": 56,
          "metadata": {},
          "output_type": "execute_result"
        }
      ],
      "source": [
        "my_sum(1,3,5)"
      ]
    },
    {
      "cell_type": "code",
      "execution_count": null,
      "metadata": {
        "colab": {
          "base_uri": "https://localhost:8080/"
        },
        "id": "Jt9vxD89Fj9O",
        "outputId": "3d88e246-9f09-48fc-a3de-caaa699d7e18"
      },
      "outputs": [
        {
          "data": {
            "text/plain": [
              "5"
            ]
          },
          "execution_count": 57,
          "metadata": {},
          "output_type": "execute_result"
        }
      ],
      "source": [
        "listA = [0,1,4]\n",
        "my_sum(*listA)\n",
        "#my_sum(0,1,4)"
      ]
    },
    {
      "cell_type": "code",
      "execution_count": null,
      "metadata": {
        "id": "vperXdNyFj6G"
      },
      "outputs": [],
      "source": []
    },
    {
      "cell_type": "code",
      "execution_count": null,
      "metadata": {
        "colab": {
          "base_uri": "https://localhost:8080/"
        },
        "id": "ygBgPJ_cynzC",
        "outputId": "77af1144-5daf-4a63-c1eb-bc7065ea484b"
      },
      "outputs": [
        {
          "name": "stdout",
          "output_type": "stream",
          "text": [
            "65\n"
          ]
        }
      ],
      "source": [
        "list1 = [1, 2, 3]\n",
        "list2 = [4, 5]\n",
        "list3 = [6, 7, 8, 9]\n",
        "\n",
        "print(my_sum(*list1, *list2, *list3,20))"
      ]
    },
    {
      "attachments": {},
      "cell_type": "markdown",
      "metadata": {
        "id": "_ddXAaK9xhk-"
      },
      "source": [
        " Ordem: \n",
        " \n",
        "         1.  : argumentos padrões \n",
        "\n",
        "         2.  : *args "
      ]
    },
    {
      "cell_type": "code",
      "execution_count": null,
      "metadata": {
        "id": "7fZbtPcEqWvk"
      },
      "outputs": [],
      "source": [
        "3 make_pizza(*topings, size): \n"
      ]
    },
    {
      "cell_type": "code",
      "execution_count": null,
      "metadata": {
        "id": "XULIoN-Dxg9R"
      },
      "outputs": [],
      "source": [
        "def make_pizza(size,*toppings):\n",
        "    \"\"\"Summarize the pizza we are about to make.\"\"\"\n",
        "    print(f\"\\nMaking a {size}-inch pizza with the following toppings:\")\n",
        "    for X in toppings:\n",
        "        print(f\"- {X}\")"
      ]
    },
    {
      "cell_type": "code",
      "execution_count": null,
      "metadata": {
        "colab": {
          "base_uri": "https://localhost:8080/"
        },
        "id": "DR5JckIeyERq",
        "outputId": "65ef8a9d-96eb-441d-9d22-de97bc0d7e9a"
      },
      "outputs": [
        {
          "name": "stdout",
          "output_type": "stream",
          "text": [
            "\n",
            "Making a 25-inch pizza with the following toppings:\n",
            "- marguerita\n",
            "- alho\n",
            "- tomate\n",
            "- queijo\n"
          ]
        }
      ],
      "source": [
        "make_pizza(25,'marguerita','alho', 'tomate','queijo')"
      ]
    },
    {
      "attachments": {},
      "cell_type": "markdown",
      "metadata": {
        "id": "DKeWZnGBytn-"
      },
      "source": [
        "# **unpacking operator** (**)\n",
        "# Dictionary\n"
      ]
    },
    {
      "cell_type": "code",
      "execution_count": null,
      "metadata": {
        "id": "pAdzWK0UzCU0"
      },
      "outputs": [],
      "source": [
        "my_dict = {'d':['a','b'], 'z':1 }"
      ]
    },
    {
      "cell_type": "code",
      "execution_count": null,
      "metadata": {
        "colab": {
          "base_uri": "https://localhost:8080/"
        },
        "id": "2vS3gZpZmk-7",
        "outputId": "ab77e3e6-f1a2-430e-cf69-38c55834230d"
      },
      "outputs": [
        {
          "name": "stdout",
          "output_type": "stream",
          "text": [
            "d z\n"
          ]
        }
      ],
      "source": [
        "print(*my_dict)"
      ]
    },
    {
      "cell_type": "code",
      "execution_count": null,
      "metadata": {
        "id": "gAHPIeBtzGen"
      },
      "outputs": [],
      "source": [
        "def build_profile(first,last,**user_info):\n",
        "       print(type(user_info))\n",
        "       \"\"\"Build a dictionary containing everything we know about a user.\"\"\"\n",
        "       user_info['first_name'] = first\n",
        "       user_info['last_name'] = last\n",
        "       return user_info\n"
      ]
    },
    {
      "cell_type": "code",
      "execution_count": null,
      "metadata": {
        "colab": {
          "base_uri": "https://localhost:8080/"
        },
        "id": "HVmGrfZ7zGby",
        "outputId": "1adec4fe-b898-4cd7-b75b-4d100622564b"
      },
      "outputs": [
        {
          "name": "stdout",
          "output_type": "stream",
          "text": [
            "<class 'dict'>\n"
          ]
        }
      ],
      "source": [
        "my_profile = build_profile('Carlos', 'Silva',idade=19,bairro='Botafogo', profissao ='Cientista de Dados')"
      ]
    },
    {
      "cell_type": "code",
      "execution_count": null,
      "metadata": {
        "colab": {
          "base_uri": "https://localhost:8080/",
          "height": 35
        },
        "id": "3lZx_Pj5nnK8",
        "outputId": "4f3e8863-bb77-4b16-efea-3a9530aa1101"
      },
      "outputs": [
        {
          "data": {
            "application/vnd.google.colaboratory.intrinsic+json": {
              "type": "string"
            },
            "text/plain": [
              "'Cientista de Dados'"
            ]
          },
          "execution_count": 71,
          "metadata": {},
          "output_type": "execute_result"
        }
      ],
      "source": [
        "my_profile['profissao']"
      ]
    },
    {
      "cell_type": "code",
      "execution_count": null,
      "metadata": {
        "id": "E1uvnNflsoh0"
      },
      "outputs": [],
      "source": []
    },
    {
      "cell_type": "code",
      "execution_count": null,
      "metadata": {
        "colab": {
          "base_uri": "https://localhost:8080/"
        },
        "id": "o1J0zVWmlqIP",
        "outputId": "6f0d41bc-58fa-4bff-81c7-52b1612b2598"
      },
      "outputs": [
        {
          "name": "stdout",
          "output_type": "stream",
          "text": [
            "<class 'dict'>\n"
          ]
        },
        {
          "data": {
            "text/plain": [
              "{'idade': 19,\n",
              " 'bairro': 'Botafogo',\n",
              " 'profissao': 'Cientista de Dados',\n",
              " 'first_name': 'Ana',\n",
              " 'last_name': 'Souza'}"
            ]
          },
          "execution_count": 72,
          "metadata": {},
          "output_type": "execute_result"
        }
      ],
      "source": [
        "build_profile('Ana','Souza',**my_profile)"
      ]
    },
    {
      "cell_type": "code",
      "execution_count": null,
      "metadata": {
        "id": "dVx3c953nnGG"
      },
      "outputs": [],
      "source": []
    },
    {
      "cell_type": "code",
      "execution_count": null,
      "metadata": {
        "id": "pc-m59SZeEA8"
      },
      "outputs": [],
      "source": [
        "B = [1, 2 ,4, 2 ,4, 6]"
      ]
    },
    {
      "cell_type": "code",
      "execution_count": null,
      "metadata": {
        "colab": {
          "base_uri": "https://localhost:8080/"
        },
        "id": "-B90Ve8keBWW",
        "outputId": "a484f663-da45-49d9-b28e-d85f915383d8"
      },
      "outputs": [
        {
          "data": {
            "text/plain": [
              "[4, 5, 7, 5, 7, 9]"
            ]
          },
          "execution_count": 77,
          "metadata": {},
          "output_type": "execute_result"
        }
      ],
      "source": [
        "## List Comprehensions\n",
        "A =[x + 3 for x in B]\n",
        "A"
      ]
    },
    {
      "cell_type": "code",
      "execution_count": null,
      "metadata": {
        "colab": {
          "base_uri": "https://localhost:8080/"
        },
        "id": "z3_00dGRv7--",
        "outputId": "8b899d52-6c94-4c05-e24e-c23298366b90"
      },
      "outputs": [
        {
          "data": {
            "text/plain": [
              "<generator object <genexpr> at 0x7f41dc4ee420>"
            ]
          },
          "execution_count": 75,
          "metadata": {},
          "output_type": "execute_result"
        }
      ],
      "source": [
        "C = (1,2,4)\n",
        "D = [x*2 for x in C]\n",
        "D\n"
      ]
    },
    {
      "cell_type": "code",
      "execution_count": null,
      "metadata": {
        "id": "_jSq7FxNqE2J"
      },
      "outputs": [],
      "source": [
        "def factorial(n):\n",
        "    if n == 0:\n",
        "        return 1\n",
        "    else:\n",
        "        recurse = factorial(n-1)\n",
        "        result = n * recurse\n",
        "        return result"
      ]
    },
    {
      "cell_type": "code",
      "execution_count": null,
      "metadata": {
        "colab": {
          "base_uri": "https://localhost:8080/"
        },
        "id": "66wje5OjyL-O",
        "outputId": "c5b0ebfc-b5b1-457c-9462-0d80a43c32c8"
      },
      "outputs": [
        {
          "data": {
            "text/plain": [
              "1"
            ]
          },
          "execution_count": 81,
          "metadata": {},
          "output_type": "execute_result"
        }
      ],
      "source": [
        "factorial(3)"
      ]
    },
    {
      "attachments": {},
      "cell_type": "markdown",
      "metadata": {
        "id": "57ykysnXzs4b"
      },
      "source": []
    },
    {
      "cell_type": "code",
      "execution_count": null,
      "metadata": {
        "id": "zyyK50-_yL2l"
      },
      "outputs": [],
      "source": []
    },
    {
      "cell_type": "code",
      "execution_count": null,
      "metadata": {
        "id": "0QNtJCTzyLwW"
      },
      "outputs": [],
      "source": []
    },
    {
      "cell_type": "code",
      "execution_count": null,
      "metadata": {
        "id": "cg2VkPlnyLti"
      },
      "outputs": [],
      "source": []
    },
    {
      "cell_type": "code",
      "execution_count": null,
      "metadata": {
        "id": "NEmrMYXnyLqG"
      },
      "outputs": [],
      "source": []
    },
    {
      "cell_type": "code",
      "execution_count": null,
      "metadata": {
        "id": "tEXPpHPhdcXb"
      },
      "outputs": [],
      "source": [
        "def factorial (n):\n",
        "    if not isinstance(n, int):\n",
        "        print('Factorial is only defined for integers.')\n",
        "        return None\n",
        "    elif n < 0:\n",
        "        print('Factorial is not defined for negative integers.')\n",
        "        return None\n",
        "    elif n == 0:\n",
        "        return 1\n",
        "    else:\n",
        "        return n * factorial(n-1)"
      ]
    },
    {
      "cell_type": "code",
      "execution_count": null,
      "metadata": {
        "colab": {
          "base_uri": "https://localhost:8080/"
        },
        "id": "EnFnCHcCdeym",
        "outputId": "0c8071f2-41a8-4ac0-87a6-04737cdbe6e9"
      },
      "outputs": [
        {
          "data": {
            "text/plain": [
              "120"
            ]
          },
          "execution_count": 24,
          "metadata": {},
          "output_type": "execute_result"
        }
      ],
      "source": [
        "factorial(5)"
      ]
    }
  ],
  "metadata": {
    "colab": {
      "include_colab_link": true,
      "provenance": []
    },
    "kernelspec": {
      "display_name": "Python 3",
      "name": "python3"
    },
    "language_info": {
      "name": "python",
      "version": "3.11.3"
    }
  },
  "nbformat": 4,
  "nbformat_minor": 0
}
